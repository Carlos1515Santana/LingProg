{
 "cells": [
  {
   "cell_type": "markdown",
   "metadata": {},
   "source": [
    "#### Carlos Sérgio Santana Santos \n",
    "#### Ra: 81712539"
   ]
  },
  {
   "cell_type": "markdown",
   "metadata": {},
   "source": [
    "### 1) - Implemente um gerador infinito de números primos. Ex:\n",
    "i = 0\n",
    "- while i < 10:\n",
    "- print(gera_primos())\n",
    "- i += 1\n",
    "\n",
    "##### Este código imprime os 10 primeiros números primos, isto é: 1, 2, 3, 5, 7, 11, 13, 17, 19, 23."
   ]
  },
  {
   "cell_type": "code",
   "execution_count": null,
   "metadata": {},
   "outputs": [],
   "source": [
    "def gerar_primos():\n",
    "    numero = 1\n",
    "    while True:\n",
    "        if primo(numero):\n",
    "            yield numero\n",
    "        numero += 1\n",
    "        \n",
    "def primo(numero):\n",
    "    if (numero == 1 or numero == 2):\n",
    "        return True;\n",
    "    else:\n",
    "        for i in range(2, numero):\n",
    "            if(numero % i == 0):\n",
    "                return False\n",
    "        return True\n",
    "    \n",
    "g = gerar_primos()\n",
    "i = 0\n",
    "while i < 10:\n",
    "    print(g.send(None))\n",
    "    i += 1"
   ]
  },
  {
   "cell_type": "markdown",
   "metadata": {},
   "source": [
    "### 2) - Implementar um gerador que leia um arquivo e retorne uma lista de tuplas com os dados (o separador de campo do arquivo é virgula), eliminando as linhas vazias. Caso ocorra algum problema, imprima uma mensagem de aviso e encerre o programa. Use o exemplo abaixo como arquivo de entrada: Ex:\n",
    "\n",
    "- Entrada:\n",
    "- teste.txt\n",
    "- 1,vermelho,2,verde,3,amarelo,4,roxo\n",
    "- 5,verde,6,preto,7,laranja,8,amarelo\n",
    "- 9,preto,10,roxo,11,roxo,12,branco\n",
    "- Chamada:\n",
    "- gera_tupla(teste.txt)\n",
    "- Retorno:\n",
    "- [(1,'vermelho'),(2,'verde'),(3,'amarelo'),(4,'roxo'),(5,'verde'),(6,'preto'),(7,'laranja'),(8,'amarelo'),(9,'preto'),(10,'roxo'),(11,'roxo'),(12,'branco')]"
   ]
  },
  {
   "cell_type": "code",
   "execution_count": null,
   "metadata": {},
   "outputs": [],
   "source": [
    "def gerar_tupla(nomeArquivo):\n",
    "    tuplas = []\n",
    "    conteudo = \"\"\n",
    "    arquivo = open(nomeArquivo)\n",
    "    linhaArquivo = arquivo.readline()\n",
    "    while linhaArquivo:\n",
    "        linha = linhaArquivo.split(\",\")\n",
    "        linha[len(linha) - 1] = linha[len(linha) - 1].strip()\n",
    "        for i in range(0, len(linha), 2):\n",
    "            tuplas.append((int(linha[i]), linha[i + 1]))\n",
    "        linhaArquivo = arquivo.readline()\n",
    "    arquivo.close()\n",
    "    yield tuplas;"
   ]
  },
  {
   "cell_type": "code",
   "execution_count": null,
   "metadata": {},
   "outputs": [],
   "source": [
    "saida = gerar_tupla(\"teste.txt\").send(None)\n",
    "print(saida)"
   ]
  },
  {
   "cell_type": "markdown",
   "metadata": {},
   "source": [
    "### 4) - Escreva um generator que crie um fluxo infinito de inteiros a partir de um valor inicial dado com passo 5.\n",
    "- Ex: gera_inteiros(7) = 12, 17, 22, 27, ..."
   ]
  },
  {
   "cell_type": "code",
   "execution_count": 2,
   "metadata": {},
   "outputs": [
    {
     "name": "stdout",
     "output_type": "stream",
     "text": [
      "12\n",
      "17\n",
      "22\n",
      "27\n",
      "32\n",
      "37\n",
      "42\n",
      "47\n",
      "52\n",
      "57\n"
     ]
    }
   ],
   "source": [
    "def gerar_inteiros(num):\n",
    "    ret = num + 5\n",
    "    yield ret\n",
    "    while True:\n",
    "        ret += 5\n",
    "        yield ret\n",
    "    \n",
    "g = gerar_inteiros(7)\n",
    "i = 0\n",
    "while i < 10:\n",
    "    print(g.send(None))\n",
    "    i += 1"
   ]
  },
  {
   "cell_type": "markdown",
   "metadata": {},
   "source": [
    "### 5) - Estenda o generator do exercício 4 em uma coroutine que permita que a mudança do passo seja feita de fora (use send()).\n",
    "- Ex: gera_inteiros_flex(7) = 12, 17, 22, 24, 26, 28, 30...\n",
    "- Entre 22 e 24 o passo foi alterado de 5 para 2."
   ]
  },
  {
   "cell_type": "code",
   "execution_count": 4,
   "metadata": {},
   "outputs": [
    {
     "name": "stdout",
     "output_type": "stream",
     "text": [
      "12\n",
      "17\n",
      "22\n",
      "24\n",
      "26\n",
      "28\n",
      "30\n"
     ]
    }
   ],
   "source": [
    "def gerar_inteiros_flex(num):\n",
    "    ret = num + 5\n",
    "    yield ret\n",
    "    while True:\n",
    "        passo = yield\n",
    "        ret += passo\n",
    "        yield ret\n",
    "    \n",
    "g = gerar_inteiros_flex(7)\n",
    "print(g.send(None))\n",
    "\n",
    "## Mais duas iterações com o passo padrão (5)\n",
    "i = 0\n",
    "while i < 2:\n",
    "    next(g)\n",
    "    print(g.send(5))\n",
    "    i += 1\n",
    "\n",
    "## Outras quatro iterações com o passo mudado (2)\n",
    "i = 0\n",
    "while i < 4:\n",
    "    next(g)\n",
    "    print(g.send(2))\n",
    "    i += 1"
   ]
  },
  {
   "cell_type": "code",
   "execution_count": null,
   "metadata": {},
   "outputs": [],
   "source": []
  }
 ],
 "metadata": {
  "kernelspec": {
   "display_name": "Python 3",
   "language": "python",
   "name": "python3"
  },
  "language_info": {
   "codemirror_mode": {
    "name": "ipython",
    "version": 3
   },
   "file_extension": ".py",
   "mimetype": "text/x-python",
   "name": "python",
   "nbconvert_exporter": "python",
   "pygments_lexer": "ipython3",
   "version": "3.7.1"
  }
 },
 "nbformat": 4,
 "nbformat_minor": 2
}
