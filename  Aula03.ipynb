{
 "cells": [
  {
   "cell_type": "markdown",
   "metadata": {},
   "source": [
    "### Carlos Sérgio Santana\n",
    "### 81712539"
   ]
  },
  {
   "cell_type": "markdown",
   "metadata": {},
   "source": [
    "##### 1. Faça um Programa que peça dois números e imprima o maior deles."
   ]
  },
  {
   "cell_type": "code",
   "execution_count": null,
   "metadata": {},
   "outputs": [],
   "source": [
    "import operator\n",
    "\n",
    "numeros = { \n",
    "    \"primeiro\" : float(input(\"Digite o primeiro numero: \")),\n",
    "    \"segundo\" : float(input(\"Digite o segundo numero: \"))\n",
    "}\n",
    "\n",
    "maior = max(numeros.items(), key=operator.itemgetter(1))\n",
    "\n",
    "\n",
    "print(f'O maior numero digitado foi o {max(numeros, key= numeros.get)} com o valor de {maior[1]}')"
   ]
  },
  {
   "cell_type": "markdown",
   "metadata": {},
   "source": [
    "##### 2. Faça um Programa que verifique se uma letra digitada é vogal ou consoante"
   ]
  },
  {
   "cell_type": "code",
   "execution_count": null,
   "metadata": {},
   "outputs": [],
   "source": [
    "letra = input('Digite uma letra (em minusculo) : ')\n",
    "\n",
    "if letra == 'a' or letra == 'e' or letra == 'i' or letra == 'o' or letra == 'u':\n",
    "    print('A letra é uma vogal')\n",
    "else:\n",
    "    print('A letra é uma consoante')"
   ]
  },
  {
   "cell_type": "markdown",
   "metadata": {},
   "source": [
    "##### 3. Faça um programa para a leitura de duas notas parciais de um aluno. O programa deve calcular a média alcançada por aluno e apresentar:\n",
    "- A mensagem \"Aprovado\", se a média alcançada for maior ou igual a sete;\n",
    "- A mensagem \"Reprovado\", se a média for menor do que sete;\n",
    "- A mensagem \"Aprovado com Distinção\", se a média for igual a dez.\n"
   ]
  },
  {
   "cell_type": "code",
   "execution_count": null,
   "metadata": {},
   "outputs": [],
   "source": [
    "n1 = float(input('Digite sua nota: '))\n",
    "n2 = float(input('Digite sua 2° nota: '))\n",
    " \n",
    "    \n",
    "nota = (n1 + n2) / 2\n",
    "\n",
    "\n",
    "if nota >= 7 and nota < 10:     \n",
    "    print( 'Você foi Aprovado!!') \n",
    "elif nota >= 10:\n",
    "    print ('Você foi Aprovado com Distinção!!')\n",
    "else:\n",
    "    print ('Infelizmente você foi reprovado')"
   ]
  },
  {
   "cell_type": "markdown",
   "metadata": {},
   "source": [
    "##### 4. Faça um Programa que leia três números e mostre-os em ordem decrescente."
   ]
  },
  {
   "cell_type": "code",
   "execution_count": null,
   "metadata": {},
   "outputs": [],
   "source": [
    "numeros = [\n",
    "    float(input('Digite o primeiro numero: ')),\n",
    "    float(input('Digite o segundo numero: ')),\n",
    "    float(input('Digite o terceiro numero: '))\n",
    "]\n",
    "\n",
    "print(sorted(numeros)[::-1])"
   ]
  },
  {
   "cell_type": "markdown",
   "metadata": {},
   "source": [
    "##### 5. As Organizações Tabajara resolveram dar um aumento de salário aos seus colaboradores e lhe contrataram para desenvolver o programa que calculará os reajustes.\n",
    "\n",
    "Faça um programa que recebe o salário de um colaborador e o reajuste segundo o\n",
    "seguinte critério, baseado no salário atual:\n",
    "- salários até R$ 280,00 (incluindo) : aumento de 20%\n",
    "- salários entre R$ 280,00 e R$ 700,00 : aumento de 15%\n",
    "- salários entre R$ 700,00 e R$ 1500,00 : aumento de 10%\n",
    "- salários de R$ 1500,00 em diante : aumento de 5% Após o aumento ser realizado,\n",
    "informe na tela:\n",
    "- o salário antes do reajuste;\n",
    "- o percentual de aumento aplicado;\n",
    "- o valor do aumento;\n",
    "- o novo salário, após o aumento."
   ]
  },
  {
   "cell_type": "code",
   "execution_count": null,
   "metadata": {},
   "outputs": [],
   "source": [
    "salario = float(input(\"Digite o salário do colaborador: \"))\n",
    "\n",
    "faixas = [\n",
    "    [1500, 0.05],\n",
    "    [700, 0.1],\n",
    "    [280, 0.15],\n",
    "    [0, 0.2]\n",
    "]\n",
    "\n",
    "i = -1\n",
    "\n",
    "for faixa in faixas:\n",
    "    i += 1\n",
    "    if salario > faixa[0]:\n",
    "        valor_aumento = salario * faixa[1]\n",
    "        salario_reajustado = salario + valor_aumento\n",
    "        break;\n",
    "        \n",
    "print(\n",
    "    f'O salário antes do reajuste: {salario}',\n",
    "    f'O percentual de aumento aplicado: {faixas[i][1]}',\n",
    "    f'O valor do aumento: {valor_aumento}',\n",
    "    f'O novo salário, após o aumento: {salario_reajustado}',\n",
    "    sep='\\n'\n",
    ")"
   ]
  },
  {
   "cell_type": "markdown",
   "metadata": {},
   "source": [
    "##### 6. Faça um Programa que leia um número e exiba o dia correspondente da semana. (1-Domingo, 2- Segunda, etc.), se digitar outro valor deve aparecer valor inválido."
   ]
  },
  {
   "cell_type": "code",
   "execution_count": null,
   "metadata": {},
   "outputs": [],
   "source": [
    "dias_semana = ['Domingo', 'Segunda', 'Terça', 'Quarta', 'Quinta', 'Sexta', 'Sabado']\n",
    "\n",
    "numero = int(input(\"Digite um numero de 1 a 7: \"))\n",
    "\n",
    "if numero > 0 and numero < 8:\n",
    "    dia = dias_semana[numero - 1]\n",
    "else:\n",
    "    dia = 'valor inválido'\n",
    "      \n",
    "print(f'{numero} - {dia}')"
   ]
  },
  {
   "cell_type": "markdown",
   "metadata": {},
   "source": [
    "##### 7. Faça um programa que lê as duas notas parciais obtidas por um aluno numa disciplina ao longo de um semestre, e calcule a sua média. A atribuição de conceitos obedece à tabela abaixo:\n",
    "\n",
    "Média de Aproveitamento Conceito\n",
    "Entre 9.0 e 10.0 A\n",
    "Entre 7.5 e 9.0 B\n",
    "Entre 6.0 e 7.5 C\n",
    "Entre 4.0 e 6.0 D\n",
    "Entre 4.0 e zero E\n",
    "O algoritmo deve mostrar na tela as notas, a média, o conceito correspondente e a\n",
    "mensagem “APROVADO” se o conceito for A, B ou C ou “REPROVADO” se o conceito\n",
    "for D ou E."
   ]
  },
  {
   "cell_type": "code",
   "execution_count": null,
   "metadata": {},
   "outputs": [],
   "source": [
    "notas = [\n",
    "    float(input('Digite a primeira nota: ')),\n",
    "    float(input('Digite a segunda nota: '))\n",
    "]\n",
    "\n",
    "media = sum(notas) / 2\n",
    "\n",
    "aproveitamentos = [\n",
    "    [10, 'A'],\n",
    "    [9, 'B'],\n",
    "    [7.5, 'C'],\n",
    "    [6, 'D'],    \n",
    "    [4, 'E']\n",
    "]\n",
    "\n",
    "for aproveitamento in aproveitamentos:\n",
    "    if media <= aproveitamento[0]:\n",
    "        conceito = aproveitamento[1]\n",
    "        if conceito == 'A' or conceito == 'B' or conceito == 'C':\n",
    "                print('Aprovado')\n",
    "                break;\n",
    "        else:\n",
    "                print('Reprovado')\n",
    "                break;\n",
    "        \n",
    "\n",
    "\n",
    "print(\n",
    "    f'Média: {media}',\n",
    "    f'Conceito: {conceito}',\n",
    "    sep='\\n'\n",
    ")\n",
    " "
   ]
  },
  {
   "cell_type": "markdown",
   "metadata": {},
   "source": [
    "##### 8. Faça um Programa que peça os 3 lados de um triângulo. O programa deverá\n",
    "informar se os valores podem ser um triângulo. Indique, caso os lados formem um\n",
    "triângulo, se o mesmo é: equilátero, isósceles ou escaleno.\n",
    "Dicas:\n",
    "- Três lados formam um triângulo quando a soma de quaisquer dois lados for maior\n",
    "que o terceiro;\n",
    "- Triângulo Equilátero: três lados iguais;\n",
    "- Triângulo Isósceles: quaisquer dois lados iguais;\n",
    "- Triângulo Escaleno: três lados diferentes;"
   ]
  },
  {
   "cell_type": "code",
   "execution_count": null,
   "metadata": {},
   "outputs": [],
   "source": [
    "\n",
    "a = int(input(\"Digite o valor do primeiro lado do triangulo: \"))\n",
    "b = int(input(\"Digite o valor do segundo lado do triangulo: \"))\n",
    "c = int(input(\"Digite o valor do terceiro lado do triangulo: \"))\n",
    "\n",
    "if abs(b - c) < a and a < b + c and abs(a - c) < b and b < a + c and abs(a - b) < c and c < a + b:\n",
    "\tprint (\"Os valores informados formam um triângulo\")\n",
    "\tif a == b and b == c:\n",
    "\t\tprint (\"O triângulo é equilátero\")\n",
    "\telif a == b or b == c or a == c:\n",
    "\t\tprint (\"O triângulo é isósceles\")\n",
    "\telse:\n",
    "\t\tprint (\"O triângulo é escaleno\")\n",
    "else:\n",
    "\tprint (\"Os valores informados não podem formar um triângulo\")"
   ]
  },
  {
   "cell_type": "markdown",
   "metadata": {},
   "source": [
    " Faça um programa que calcule as raízes de uma equação do segundo grau, na\n",
    "forma ax2 + bx + c. O programa deverá pedir os valores de a, b e c e fazer as\n",
    "consistências, informando ao usuário nas seguintes situações:\n",
    "- Se o usuário informar o valor de A igual a zero, a equação não é do segundo grau e\n",
    "o programa não deve fazer pedir os demais valores, sendo encerrado;\n",
    "- Se o delta calculado for negativo, a equação não possui raizes reais. Informe ao\n",
    "usuário e encerre o programa;\n",
    "- Se o delta calculado for igual a zero a equação possui apenas uma raiz real;\n",
    "informe-a ao usuário;\n",
    "- Se o delta for positivo, a equação possui duas raiz reais; informe-as ao usuário;"
   ]
  },
  {
   "cell_type": "code",
   "execution_count": null,
   "metadata": {},
   "outputs": [],
   "source": [
    "import math\n",
    "\n",
    "a = float(input(\"digite o A\"))\n",
    "if (a==0):\n",
    "  print(\"A equação não é do segundo grau\")\n",
    "  quit() # termina o programa\n",
    "b = float(input(\"digite o B\"))\n",
    "c = float(input(\"digite o C\"))\n",
    "sinal_b = \"+\" if (b>0) else \"\"\n",
    "sinal_c = \"+\" if (c>0) else \"\"\n",
    "print(\"a equação é \",a,\"x²\",sinal_b,b,\"x\",sinal_c,c,sep=\"\")\n",
    "delta = b*b - 4*a*c \n",
    "if delta < 0:\n",
    "  print(\"A equação não tem raízes reais\")\n",
    "elif delta == 0:\n",
    "  print(\"A equação tem uma raíz só\",-b/2*a)\n",
    "else:\n",
    "  print(\"A equação tem duaz raízes\")\n",
    "  print(\"Raiz um\",(-b-math.sqrt(delta))/2*a)\n",
    "  print(\"Raiz um\",(-b+math.sqrt(delta))/2*a)"
   ]
  },
  {
   "cell_type": "markdown",
   "metadata": {},
   "source": [
    " Faça um Programa para um caixa eletrônico. O programa deverá perguntar ao\n",
    "usuário a valor do saque e depois informar quantas notas de cada valor serão\n",
    "fornecidas. As notas disponíveis serão as de 1, 5, 10, 50 e 100 reais. O valor mínimo é\n",
    "de 10 reais e o máximo de 600 reais. O programa não deve se preocupar com a\n",
    "quantidade de notas existentes na máquina.\n",
    "- Exemplo 1: Para sacar a quantia de 256 reais, o programa fornece duas notas de\n",
    "100, uma nota de 50, uma nota de 5 e uma nota de 1;\n",
    "- Exemplo 2: Para sacar a quantia de 399 reais, o programa fornece três notas de\n",
    "100, uma nota de 50, quatro notas de 10, uma nota de 5 e quatro notas de 1."
   ]
  },
  {
   "cell_type": "code",
   "execution_count": null,
   "metadata": {},
   "outputs": [],
   "source": [
    " \n",
    "def metodo_1(valor):\n",
    "    valor_total = valor  \n",
    "    \n",
    "    notas100 = valor // 100   \n",
    "    valor -= notas100 * 100   \n",
    "    \n",
    "    notas50 = valor // 50\n",
    "    valor -= notas50 * 50\n",
    "    \n",
    "    notas10 = valor // 10\n",
    "    valor -= notas10 * 10\n",
    "    \n",
    "    notas5 = valor // 5\n",
    "    valor -= notas5 * 5\n",
    "    \n",
    "     \n",
    "    print_notas(valor_total, valor, notas5, notas10, notas50, notas100)\n",
    "    \n",
    "    \n",
    "# Métodos com conceitos mais \"avançados\" (links para leitura nos comentários)\n",
    "def metodo_2(valor):\n",
    "    valor_total = valor\n",
    "    notas = [100, 50, 10, 5, 1]\n",
    "    qtds = []\n",
    "    \n",
    "     \n",
    "    for nota in notas:\n",
    "        qtd = valor//nota\n",
    "        valor -= nota * qtd\n",
    "        qtds.append(qtd)\n",
    "\n",
    "   \n",
    "    qtds = reversed(qtds)\n",
    "    \n",
    "     \n",
    "    print_notas(valor_total, *qtds)\n",
    "    \n",
    "    \n",
    "def print_notas(total, notas1, notas5, notas10, notas50, notas100):\n",
    "    template = \"R$ {:>3}: {:>3} notas\"\n",
    "    print(\"- Valor do saque: R$ \" + str(total))\n",
    "    print(template.format(\"100\", notas100))\n",
    "    print(template.format(\"50\", notas50))\n",
    "    print(template.format(\"10\", notas10))\n",
    "    print(template.format(\"5\", notas5))\n",
    "    print(template.format(\"1\", notas1))\n",
    "    print()\n",
    "    \n",
    "\n",
    " \n",
    "\n",
    "valor = int(input('Quanto deseja sacar? '))\n",
    "\n",
    "print('= = = metodo_1 = = =')\n",
    "resposta1 = metodo_1(valor)\n",
    "\n",
    "print('= = = metodo_2 = = =')\n",
    "resposta2 = metodo_2(valor)\n"
   ]
  },
  {
   "cell_type": "markdown",
   "metadata": {},
   "source": [
    "11. Faça um programa que faça 5 perguntas para uma pessoa sobre um crime. As\n",
    "perguntas são:\n",
    "\"Telefonou para a vítima?\"\n",
    "\"Esteve no local do crime?\"\n",
    "\"Mora perto da vítima?\"\n",
    "\"Devia para a vítima?\"\n",
    "\"Já trabalhou com a vítima?\"\n",
    "O programa deve no final emitir uma classificação sobre a participação da pessoa no\n",
    "crime. Se a pessoa responder positivamente a 2 questões ela deve ser classificada\n",
    "como \"Suspeita\", entre 3 e 4 como \"Cúmplice\" e 5 como \"Assassino\". Caso contrário,\n",
    "ele será classificado como \"Inocente\"."
   ]
  },
  {
   "cell_type": "code",
   "execution_count": null,
   "metadata": {},
   "outputs": [],
   "source": [
    "perguntas = [ \n",
    "    \"Telefonou para a vítima?\" ,\n",
    "    \"Esteve no local do crime?\" ,\n",
    "    \"Mora perto da vítima?\" ,\n",
    "    \"Devia para a vítima?\" ,\n",
    "    \"Já trabalhou com a vítima?\" \n",
    "]\n",
    "resposta = 0\n",
    "for qual in perguntas:\n",
    "  resposta += (input(qual) == \"S\")\n",
    "  \n",
    "if resposta == 5:\n",
    "  print(\"Assassino\")\n",
    "elif resposta >=3:\n",
    "  print(\"Cúmplice\")\n",
    "elif resposta ==2:\n",
    "  print(\"Suspeito\")\n",
    "else:\n",
    "  print(\"Inocente\")"
   ]
  },
  {
   "cell_type": "markdown",
   "metadata": {},
   "source": [
    "12. Uma fruteira está vendendo frutas com a seguinte tabela de preços:\n",
    "Até 5 Kg Acima de 5 Kg\n",
    "Morango R$ 2,50 por Kg R$ 2,20 por Kg\n",
    "Maçã R$ 1,80 por Kg R$ 1,50 por Kg\n",
    "Se o cliente comprar mais de 8 Kg em frutas ou o valor total da compra ultrapassar\n",
    "R$ 25,00, receberá ainda um desconto de 10% sobre este total. Escreva um\n",
    "algoritmo para ler a quantidade (em Kg) de morangos e a quantidade (em Kg) de\n",
    "maças adquiridas e escreva o valor a ser pago pelo cliente."
   ]
  },
  {
   "cell_type": "code",
   "execution_count": null,
   "metadata": {},
   "outputs": [],
   "source": [
    "morangos = float(input(\"Digite quantos kilos de morango:\"))\n",
    "macas = float(input(\"Digite quantos kilos de maçã: \"))\n",
    "\n",
    "valor_morangos = morangos * 2.5 if morangos < 5 else morangos * 2.20\n",
    "valor_macas = macas * 1.8 if macas < 5 else macas * 1.5\n",
    "\n",
    "sub_total = valor_morangos + valor_macas\n",
    "\n",
    "print(f'Valor a ser pago: {sub_total * 0.9 if morangos + macas > 8 or sub_total > 5 else sub_total:.2f}')"
   ]
  },
  {
   "cell_type": "markdown",
   "metadata": {},
   "source": [
    "# LOOPS"
   ]
  },
  {
   "cell_type": "markdown",
   "metadata": {},
   "source": [
    "13. Faça um programa que peça uma nota, entre zero e dez. Mostre uma mensagem\n",
    "caso o valor seja inválido e continue pedindo até que o usuário informe um valor\n",
    "válido."
   ]
  },
  {
   "cell_type": "code",
   "execution_count": null,
   "metadata": {},
   "outputs": [],
   "source": [
    "nota = float(input(\"Digite uma nota de 0 a 10: \"))\n",
    "while nota < 0 or nota > 10:\n",
    "    print (\"Nota inválida, digite apenas uma nota de 0 a 10.\")\n",
    "    nota = float(input(\"Digite uma nota de 0 a 10: \"))\n",
    " \n",
    "\n",
    "print(\"Nota: %.1f\" %nota)"
   ]
  },
  {
   "cell_type": "markdown",
   "metadata": {},
   "source": [
    "13. Faça um programa que leia e valide as seguintes informações:\n",
    "Nome: maior que 3 caracteres;\n",
    "Idade: entre 0 e 150;\n",
    "Salário: maior que zero;\n",
    "Sexo: 'f' ou 'm';\n",
    "Estado Civil: 's', 'c', 'v', 'd';"
   ]
  },
  {
   "cell_type": "code",
   "execution_count": null,
   "metadata": {},
   "outputs": [],
   "source": [
    "while(True):\n",
    "\tnome = input(\"Nome: \")\n",
    "\tidade = int(input(\"Idade: \"))\n",
    "\tsalario = float(input(\"Salário: \"))\n",
    "\tsexo = input(\"Sexo: \")\n",
    "\testadoCivil = input(\"Estado civil: \")\n",
    "\tif(len(nome) > 3):\n",
    "\t\tif(idade > 0 and idade <= 150):\n",
    "\t\t\tif(salario > 0):\n",
    "\t\t\t\tif(sexo == \"f\" or sexo == \"F\" or sexo == \"m\" or sexo == \"M\"):\n",
    "\t\t\t\t\tif(estadoCivil == \"s\" or estadoCivil == \"c\" or estadoCivil == \"v\" or estadoCivil == \"d\"):\n",
    "\t\t\t\t\t\tprint(\"Tudo OK!\")\n",
    "\t\t\t\t\t\tbreak\n",
    "\t\t\t\t\telse:\n",
    "\t\t\t\t\t\tprint(\"Estado civil inválido!\")\n",
    "\t\t\t\telse:\n",
    "\t\t\t\t\tprint(\"Sexo inválido!\")\n",
    "\t\t\telse:\n",
    "\t\t\t\tprint(\"Salário inválido!\")\n",
    "\t\telse:\n",
    "\t\t\tprint(\"Idade inválida!\")\n",
    "\telse:\n",
    "\t\tprint(\"Nome inválido!!\")"
   ]
  },
  {
   "cell_type": "markdown",
   "metadata": {},
   "source": [
    "14. Faça um programa que leia 5 números e informe o maior número."
   ]
  },
  {
   "cell_type": "code",
   "execution_count": null,
   "metadata": {},
   "outputs": [],
   "source": [
    "numeros = [float(input(f'Digite o {x+1}º numero: ')) for x in range(5)]\n",
    "\n",
    "print(f'Maior número: {max(numeros)}')"
   ]
  },
  {
   "cell_type": "markdown",
   "metadata": {},
   "source": [
    "15. Faça um programa que leia 5 números e informe a soma e a média dos números."
   ]
  },
  {
   "cell_type": "code",
   "execution_count": null,
   "metadata": {},
   "outputs": [],
   "source": [
    "numeros = [float(input(f'Digite o {x+1}º numero: ')) for x in range(5)]\n",
    "\n",
    "soma = sum(numeros)\n",
    "\n",
    "print(f'Soma: {soma} \\nMédia: {soma/len(numeros)}')"
   ]
  },
  {
   "cell_type": "markdown",
   "metadata": {},
   "source": [
    "16. Faça um programa que imprima na tela apenas os números ímpares entre 1 e 50.\n"
   ]
  },
  {
   "cell_type": "code",
   "execution_count": null,
   "metadata": {},
   "outputs": [],
   "source": [
    "for i in range(1,51,2):\n",
    "    print (i)"
   ]
  },
  {
   "cell_type": "markdown",
   "metadata": {},
   "source": [
    "17. Desenvolva um gerador de tabuada, capaz de gerar a tabuada de qualquer\n",
    "número inteiro entre 1 a 10. O usuário deve informar de qual numero ele deseja ver\n",
    "a tabuada. A saída deve ser conforme o exemplo abaixo:\n",
    "Tabuada de 5:"
   ]
  },
  {
   "cell_type": "code",
   "execution_count": null,
   "metadata": {},
   "outputs": [],
   "source": [
    "n=int(input(\"digite o numero ao qual tabuada pertence\"))\n",
    "for i in range(1,11):\n",
    "  print(n,\"x %i\"%i,\"=\",n*i)"
   ]
  },
  {
   "cell_type": "markdown",
   "metadata": {},
   "source": [
    "18. A série de Fibonacci é formada pela seqüência 1,1,2,3,5,8,13,21,34,55,... Faça um\n",
    "programa capaz de gerar a série até o n−ésimo termo."
   ]
  },
  {
   "cell_type": "code",
   "execution_count": null,
   "metadata": {},
   "outputs": [],
   "source": [
    "fibo = [1,1]\n",
    "i = 0\n",
    "num = int(input(\"Entre com um número: \"))\n",
    "\n",
    "while num > len(fibo):\n",
    "\tfibo.append(fibo[i] + fibo[i+1])\n",
    "\ti+=1\n",
    "\n",
    "print ('Fibonacci(%d): %d' %(num,fibo[num-1]))"
   ]
  },
  {
   "cell_type": "markdown",
   "metadata": {},
   "source": [
    "19. Faça um programa que calcule o fatorial de um número inteiro fornecido pelo\n",
    "usuário. Ex.: 5!=5.4.3.2.1=120"
   ]
  },
  {
   "cell_type": "code",
   "execution_count": null,
   "metadata": {},
   "outputs": [],
   "source": [
    "n = int(input(\"Digite um número: \"))\n",
    "c = n\n",
    "\n",
    "while c != 1:\n",
    "  c -= 1\n",
    "  n = n*c \n",
    "  ax = n\n",
    "print(n)\n"
   ]
  },
  {
   "cell_type": "markdown",
   "metadata": {},
   "source": [
    "20. O Sr. Manoel Joaquim possui uma grande loja de artigos de R$ 1,99, com cerca\n",
    "de 10 caixas. Para agilizar o cálculo de quanto cada cliente deve pagar ele\n",
    "desenvolveu um tabela que contém o número de itens que o cliente comprou e ao\n",
    "lado o valor da conta. Desta forma a atendente do caixa precisa apenas contar\n",
    "quantos itens o cliente está levando e olhar na tabela de preços. Você foi contratado\n",
    "para desenvolver o programa que monta esta tabela de preços, que conterá os\n",
    "preços de 1 até 50 produtos, conforme o exemplo abaixo:"
   ]
  },
  {
   "cell_type": "code",
   "execution_count": null,
   "metadata": {},
   "outputs": [],
   "source": [
    "x = 1\n",
    "valor = 1.99\n",
    "\n",
    "print(\"\\nLojas Quase Dois - Tabelas de preços\\n\")\n",
    "\n",
    "while x <= 50:\n",
    "    print(\"%02.d - R$ %.2f\"%(x,x*valor))\n",
    "    x += 1"
   ]
  },
  {
   "cell_type": "markdown",
   "metadata": {},
   "source": [
    "21. O Sr. Manoel Joaquim acaba de adquirir uma panificadora e pretende implantar\n",
    "a metodologia da tabelinha, que já é um sucesso na sua loja de 1,99. Você foi\n",
    "contratado para desenvolver o programa que monta a tabela de preços de pães, de\n",
    "1 até 50 pães, a partir do preço do pão informado pelo usuário, conforme o exemplo\n",
    "abaixo:"
   ]
  },
  {
   "cell_type": "code",
   "execution_count": null,
   "metadata": {},
   "outputs": [],
   "source": [
    "preco_pao = float(input('Preço do pão: R$ '))\n",
    "\n",
    "print('Panificadora Pão de Ontem - Tabela de preços ')\n",
    "for i in range(1, 51):\n",
    "    preco = i * preco_pao\n",
    "    print(f'{i} - R$ {preco:.2f}')"
   ]
  },
  {
   "cell_type": "markdown",
   "metadata": {},
   "source": [
    "22. O Sr. Manoel Joaquim expandiu seus negócios para além dos negócios de 1,99 e\n",
    "agora possui uma loja de conveniências. Faça um programa que implemente uma\n",
    "caixa registradora rudimentar. O programa deverá receber um número\n",
    "desconhecido de valores referentes aos preços das mercadorias. Um valor zero deve\n",
    "ser informado pelo operador para indicar o final da compra. O programa deve então\n",
    "mostrar o total da compra e perguntar o valor em dinheiro que o cliente forneceu,\n",
    "para então calcular e mostrar o valor do troco. Após esta operação, o programa\n",
    "deverá voltar ao ponto inicial, para registrar a próxima compra. A saída deve ser\n",
    "conforme o exemplo abaixo:"
   ]
  },
  {
   "cell_type": "code",
   "execution_count": null,
   "metadata": {},
   "outputs": [],
   "source": [
    "def clear():\n",
    "    print(\"\\n\" * 40)\n",
    "\n",
    "\n",
    "while True:\n",
    "    print(\"---------- LOJA TABAJARA -----------\")\n",
    "    n = 1\n",
    "    total = 0\n",
    "\n",
    "    while True:\n",
    "        preco = float(input(\"Produto {}: R$ \".format(n)))\n",
    "        n += 1\n",
    "        total += preco\n",
    "        if preco == 0:\n",
    "            break\n",
    "\n",
    "    print(\"------------------------------------\")\n",
    "\n",
    "    print(\"Total: R$ {:.2f} \".format(total))\n",
    "    dinheiro = float(input(\"Dinheiro: R$ \"))\n",
    "    print(\"Troco: R$ {:.2f}\".format(dinheiro - total))\n",
    "\n",
    "    print(\"------------------------------------\")\n",
    "\n",
    "    reset = input(\"pressione 0 para reset, 1 para encerrar: \")\n",
    "    if reset == \"0\":\n",
    "        clear()\n",
    "        continue\n",
    "    else:\n",
    "        clear()\n",
    "        print(\"Encerrando caixa...\")\n",
    "        break"
   ]
  },
  {
   "cell_type": "markdown",
   "metadata": {},
   "source": [
    "23- Foi feita uma estatística em cinco cidades brasileiras para coletar dados sobre\n",
    "acidentes de trânsito. Foram obtidos os seguintes dados:\n",
    "- Código da cidade;\n",
    "- Número de veículos de passeio (em 1999);\n",
    "- Número de acidentes de trânsito com vítimas (em 1999). Deseja-se saber:\n",
    "- Qual o maior e menor índice de acidentes de transito e a que cidade pertence;\n",
    "- Qual a média de veículos nas cinco cidades juntas;\n",
    "- Qual a média de acidentes de trânsito nas cidades com menos de 2.000 veículos de\n",
    "passeio.\n"
   ]
  },
  {
   "cell_type": "code",
   "execution_count": null,
   "metadata": {},
   "outputs": [],
   "source": [
    "# Definindo as variáveis\n",
    "maior = menor = count = soma_veiculos = soma_acidentes = soma_2k = 0\n",
    "cid_maior = cid_menor = ''\n",
    "\n",
    "# Laço para que o usuário digite os dados das 5 cidades \n",
    "for c in range(1,6):\n",
    "    cidade      = str(input(\"\\nDigite o nome da cidade.....................: \"))\n",
    "    codigo      = int(input(\"Digite o código da cidade...................: \"))\n",
    "    veiculos    = int(input(\"Numero de veiculos de passeio...............: \"))\n",
    "    acidentes   = int(input(\"Numero de acidentes de transito com vitimas.: \"))\n",
    "\n",
    "    soma_veiculos += veiculos\n",
    "    soma_acidentes += acidentes\n",
    "\n",
    "    if acidentes > maior:\n",
    "        maior = acidentes\n",
    "        cid_maior = cidade\n",
    "\n",
    "    if acidentes < menor or c == 1:\n",
    "        menor = acidentes\n",
    "        cid_menor = cidade\n",
    "\n",
    "    if veiculos < 2000:\n",
    "        soma_2k += acidentes\n",
    "        count += 1\n",
    "\n",
    "# Calculando a média das 5 cidades\n",
    "media_nas_5_cidades = soma_veiculos / c\n",
    "media_2k = soma_2k / count\n",
    "\n",
    "# Exibindo os resultados\n",
    "print(\"\\n\"+\"-=\"*30)\n",
    "print(f\"O menor indice de acidentes de transito {menor} cidade que pertence {cid_menor}\")\n",
    "print(f\"O maior indice de acidenstes de transito {maior} cidade que pertence {cid_maior}\")\n",
    "print(f\"Media de veiculos nas cincos cidades {media_nas_5_cidades}\")\n",
    "print(f\"Media de acidentes de transitos nas cidades com menos de 2000 é {media_2k}\") "
   ]
  },
  {
   "cell_type": "markdown",
   "metadata": {},
   "source": [
    "24. Faça um programa que receba o valor de uma dívida e mostre uma tabela com\n",
    "os seguintes dados: valor da dívida, valor dos juros, quantidade de parcelas e valor\n",
    "da parcela.\n",
    "Os juros e a quantidade de parcelas seguem a tabela abaixo:\n",
    "Quantidade de Parcelas % de Juros sobre o valor inicial da dívida"
   ]
  },
  {
   "cell_type": "markdown",
   "metadata": {},
   "source": [
    "25. Faça um programa que mostre os n termos da Série a seguir:\n",
    "S = 1/1 + 2/3 + 3/5 + 4/7 + 5/9 + ... + n/m.\n",
    "Imprima no final a soma da série."
   ]
  },
  {
   "cell_type": "code",
   "execution_count": 2,
   "metadata": {},
   "outputs": [
    {
     "name": "stdout",
     "output_type": "stream",
     "text": [
      "S = 1 / 1  + 2 / 3  + 3 / 5  + 4 / 7  + 5 / 9  + 6 / 11  + 7 / 13  + 8 / 15  + 9 / 17  + 10 / 19  =  45 / 81\n"
     ]
    }
   ],
   "source": [
    "n1 = 1\n",
    "n2 = 1\n",
    "n1_lista = []\n",
    "n2_lista = []\n",
    "print(\"S = \", end = \"\")\n",
    "while n1 <= 10 -1:\n",
    "    print(n1, \"/\", n2, \" + \", end=\"\")\n",
    "    n1_lista.append(n1)\n",
    "    n2_lista.append(n2)\n",
    "    n1 += 1\n",
    "    n2 += 2\n",
    "\n",
    "print(n1, \"/\", n2, \" = \", sum(n1_lista), \"/\", sum(n2_lista))"
   ]
  }
 ],
 "metadata": {
  "kernelspec": {
   "display_name": "Python 3",
   "language": "python",
   "name": "python3"
  },
  "language_info": {
   "codemirror_mode": {
    "name": "ipython",
    "version": 3
   },
   "file_extension": ".py",
   "mimetype": "text/x-python",
   "name": "python",
   "nbconvert_exporter": "python",
   "pygments_lexer": "ipython3",
   "version": "3.7.1"
  }
 },
 "nbformat": 4,
 "nbformat_minor": 2
}
