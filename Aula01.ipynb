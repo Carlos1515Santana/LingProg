{
 "cells": [
  {
   "cell_type": "markdown",
   "metadata": {},
   "source": [
    "### Carlos Sérgio Santana Santos\n",
    "### 81712539"
   ]
  },
  {
   "cell_type": "markdown",
   "metadata": {},
   "source": [
    "#### 1)Faça um Programa que peça o raio de um círculo, calcule e mostre sua área."
   ]
  },
  {
   "cell_type": "code",
   "execution_count": null,
   "metadata": {},
   "outputs": [],
   "source": [
    "pi = 3.14\n",
    "raio = float(input(\"DIGITE O RAIO DO CÍRCULO \"))\n",
    "area = pi * (raio * raio)\n",
    "print('A área do círculo é ' ,area, 'M²')"
   ]
  },
  {
   "cell_type": "markdown",
   "metadata": {},
   "source": [
    "#### 2) Faça um Programa que calcule a área de um quadrado, em seguida mostre o dobro desta área para o usuário."
   ]
  },
  {
   "cell_type": "code",
   "execution_count": null,
   "metadata": {},
   "outputs": [],
   "source": [
    "altura = float(input(\"DIGITE A ALTURA DO QUADRADO \"))\n",
    "largura = float(input(\"DIGITE A LARGURA DO QUADRADO \"))\n",
    "area = altura * largura\n",
    "print('A área do quadrado é ', area  , 'M²')"
   ]
  },
  {
   "cell_type": "markdown",
   "metadata": {},
   "source": [
    "#### 3) Faça um Programa que pergunte quanto você ganha por hora e o número de horas trabalhadas no mês. Calcule e mostre o total do seu salário no referido mês."
   ]
  },
  {
   "cell_type": "code",
   "execution_count": null,
   "metadata": {},
   "outputs": [],
   "source": [
    "salHora = float(input('Digite quanto você ganha hora '))\n",
    "hora = float(input('Digite a quantidade de horas trabalhadas '))\n",
    "salario = salHora*hora\n",
    "print(salario)\n",
    "\n"
   ]
  },
  {
   "cell_type": "markdown",
   "metadata": {},
   "source": [
    "#### 4) Faça um Programa que peça a temperatura em graus Farenheit, transforme e mostre a temperatura em graus Celsius. C = (5 * (F-32) / 9)."
   ]
  },
  {
   "cell_type": "code",
   "execution_count": null,
   "metadata": {},
   "outputs": [],
   "source": [
    "farenheit = float(input(\"Digite a temperatura \"))\n",
    "celsius = (5 * (farenheit - 32) / 9)\n",
    "print('farenheit : ', farenheit , ' Celsius : ', celsius )"
   ]
  },
  {
   "cell_type": "markdown",
   "metadata": {},
   "source": [
    "#### 5) Faça um Programa que peça a temperatura em graus Celsius, transforme e mostre em graus Farenheit."
   ]
  },
  {
   "cell_type": "code",
   "execution_count": null,
   "metadata": {},
   "outputs": [],
   "source": [
    "celsius = float(input(\"Digite \"))\n",
    "vt = celsius * 1.8\n",
    "f = vt + 32\n",
    "print('Farenheit ' , f )"
   ]
  },
  {
   "cell_type": "markdown",
   "metadata": {},
   "source": [
    "#### 6) Faça um Programa que peça 2 números inteiros e um número real. Calcule e mostre: \n",
    "#### - o produto do dobro do primeiro com metade do segundo .\n",
    "#### - a soma do triplo do primeiro com o terceiro.\n",
    "#### - o terceiro elevado ao cubo."
   ]
  },
  {
   "cell_type": "code",
   "execution_count": null,
   "metadata": {},
   "outputs": [],
   "source": [
    "inteiro = int(input(\"Digite um número inteiro \"))\n",
    "inteiro2 = int(input(\"Digite outro número inteiro \"))\n",
    "real = float(input(\"Digite um número real \"))\n",
    "\n",
    "aux = inteiro*2\n",
    "aux2 = inteiro2/2\n",
    "\n",
    "resultado1 = aux * aux2\n",
    "\n",
    "aux3 = inteiro * 3\n",
    "\n",
    "resultado2 = aux3 + real\n",
    "\n",
    "resultado3 = real*real*real\n",
    "\n",
    "print('Os números digitas respectivamente : ' , inteiro , inteiro2 , real , \n",
    "      '\\nO produto do dobro do primeiro com metade do segundo :', resultado1 ,\n",
    "      '\\nSoma d triplo do primeiro com o terceiro :', resultado2, \n",
    "      '\\nO terceiro número elevado ao cubo :',resultado3)"
   ]
  },
  {
   "cell_type": "markdown",
   "metadata": {},
   "source": [
    "#### 7 João Papo-de-Pescador, homem de bem, comprou um microcomputador para controlar o rendimento diário de seu trabalho. Toda vez que ele traz um peso de peixes maior que o estabelecido pelo regulamento de pesca do estado de São Paulo (50 quilos) deve pagar uma multa de R $4,00 por quilo excedente. João precisa que você faça um programa que leia a variável peso (peso de peixes) e verifique se há excesso. Se houver, gravar na variável excesso e na variável multa o valor da multa que João deverá pagar. Caso contrário mostrar tais variáveis com o conteúdo ZERO."
   ]
  },
  {
   "cell_type": "code",
   "execution_count": null,
   "metadata": {},
   "outputs": [],
   "source": [
    "peso = float((input(\"Digite a quantidade de peso \")))\n",
    "excesso = peso - 50 \n",
    "if excesso < 0:\n",
    "    excesso = 0 \n",
    "multa = excesso * 4\n",
    "\n",
    "print(f'excesso: {excesso:.2f}; multa:{multa} ')\n"
   ]
  },
  {
   "cell_type": "markdown",
   "metadata": {},
   "source": [
    "8 Faça um Programa que pergunte quanto você ganha por hora e o número de horas\n",
    "trabalhadas no mês. Calcule e mostre o total do seu salário no referido mês,\n",
    "sabendo-se que são descontados 11% para o Imposto de Renda, 8% para o INSS e 5%\n",
    "para o sindicato, faça um programa que nos dê:\n",
    "- salário bruto.\n",
    "- quanto pagou ao INSS.\n",
    "- quanto pagou ao sindicato.\n",
    "- o salário líquido.\n",
    "- calcule os descontos e o salário líquido, conforme a tabela abaixo:\n",
    "+ Salário Bruto : R$\n",
    "- IR (11%) : R$\n",
    "- INSS (8%) : R$\n",
    "- Sindicato ( 5%) : R$\n",
    "= Salário Liquido : R$\n",
    "Obs.: Salário Bruto - Descontos = Salário Líquido."
   ]
  },
  {
   "cell_type": "code",
   "execution_count": null,
   "metadata": {},
   "outputs": [],
   "source": [
    "salHora = float(input('Digite quanto você ganha hora '))\n",
    "hora = float(input('Digite a quantidade de horas trabalhadas '))\n",
    "salario_bruto = salHora*hora\n",
    "\n",
    "INSS = salario_bruto * 0.05\n",
    "impostoRed = salario_bruto * 0.11\n",
    "sindicato = salario_bruto *  0.08\n",
    "\n",
    "descontos = INSS + impostoRed  + sindicato\n",
    "salaLin = salario_bruto - descontos\n",
    "\n",
    "print('Salário Bruto :', salario_bruto)\n",
    "print('Salário líquido: ', salaLin)\n",
    "print('Sindicato: ', sindicato)\n",
    "print('INSS: ', INSS)\n",
    "print('IMPOSTO DE RENDA: ', impostoRed)\n",
    "print('Descontos totais: ' ,descontos)"
   ]
  },
  {
   "cell_type": "markdown",
   "metadata": {},
   "source": [
    "9) Faça um programa que leia 2 strings e informe o conteúdo delas seguido do seu\n",
    "comprimento. Informe também se as duas strings possuem o mesmo comprimento e\n",
    "são iguais ou diferentes no conteúdo.\n",
    "Exemplo:\n",
    "String 1: Brasil Hexa 2018\n",
    "String 2: Brasil! Hexa 2018!\n",
    "Tamanho de \"Brasil Hexa 2018\": 16 caracteres\n",
    "Tamanho de \"Brasil! Hexa 2018!\": 18 caracteres\n",
    "As duas strings são de tamanhos diferentes.\n",
    "As duas strings possuem conteúdo diferente."
   ]
  },
  {
   "cell_type": "code",
   "execution_count": null,
   "metadata": {},
   "outputs": [],
   "source": [
    "string1 = input(\"Digite um texto \")\n",
    "string2 = input(\"Digite um texto \")\n",
    "                \n",
    "tamanho_string1 = len(string1)\n",
    "tamanho_string2 = len(string2)\n",
    "\n",
    "print(f'Tamanho do texto \"{string1}\"  : \"{tamanho_string1}\"')\n",
    "print(f'Tamanho do texto \"{string2}\"  : \"{tamanho_string2}\"')\n",
    "\n",
    "if tamanho_string1 == tamanho_string2:\n",
    "    print('Os dois teXtos são de tamanho igual')     \n",
    "else:\n",
    "    print('Os dois textos são de tamanhos diferentes')\n",
    "if string1 == string2:\n",
    "        print('Os dois texto são identicos')\n",
    "        \n",
    "else: \n",
    "        print('Os dois textos são diferentes')\n",
    "                    \n",
    "                \n",
    "                \n",
    "                \n",
    "                \n",
    "                "
   ]
  },
  {
   "cell_type": "markdown",
   "metadata": {},
   "source": [
    "#### 10) Faça um programa que permita ao usuário digitar o seu nome e em seguidamostre o nome do usuário de trás para frente utilizando somente letras maiúsculas. Dica: lembre−se que ao informar o nome o usuário pode digitar letras maiúsculas ou minúsculas. Observação: não use loops."
   ]
  },
  {
   "cell_type": "code",
   "execution_count": null,
   "metadata": {},
   "outputs": [],
   "source": [
    "Nome =input(\"Digite seu nome \")\n",
    "print(Nome[::-1].upper())"
   ]
  },
  {
   "cell_type": "markdown",
   "metadata": {},
   "source": [
    "#### 11)Faça um programa que solicite a data de nascimento (dd/mm/aaaa) do usuário e imprima a data com o nome do mês por extenso. Data de Nascimento: 29/10/1973 Você nasceu em 29 de Outubro de 1973. Obs.: Não use desvio condicional nem loops."
   ]
  },
  {
   "cell_type": "code",
   "execution_count": null,
   "metadata": {},
   "outputs": [],
   "source": [
    "meses = [\"janeiro\",\"fevereiro\",\"março\",\"abril\",\"maio\",\"junho\",\"julho\",\"agosto\",\"setembro\",\"outubro\",\"novembro\",\"dezembro\"]\n",
    "\n",
    "data = input(\"informe a data (dd/mm/aaaa): \")\n",
    "\n",
    "\n",
    "print (data.split(\"/\")[0],\"de\", meses[(int(data.split(\"/\")[1])-1)], \"de\", data.split(\"/\")[2])\n",
    "\n",
    "   \n",
    " "
   ]
  },
  {
   "cell_type": "markdown",
   "metadata": {},
   "source": [
    "12 Leet é uma forma de se escrever o alfabeto latino usando outros símbolos em\n",
    "lugar das letras, como números por exemplo. A própria palavra leet admite muitas\n",
    "variações, como l33t ou 1337. O uso do leet reflete uma subcultura relacionada ao\n",
    "mundo dos jogos de computador e internet, sendo muito usada para confundir os\n",
    "iniciantes e afirmar-se como parte de um grupo. Pesquise sobre as principais formas\n",
    "de traduzir as letras. Depois, faça um programa que peça uma texto e transforme-o\n",
    "para a grafia leet speak.\n"
   ]
  },
  {
   "cell_type": "code",
   "execution_count": 3,
   "metadata": {},
   "outputs": [
    {
     "name": "stdout",
     "output_type": "stream",
     "text": [
      "Digite o texto a ser traduzidoaabb\n",
      "Texto original  : AABB\n",
      "Texto traduzido : 4466\n"
     ]
    }
   ],
   "source": [
    " texto = input(\"Digite o texto a ser traduzido\")\n",
    "texto = texto.upper()\n",
    "texto1 =texto\n",
    "\n",
    "texto = texto.replace(\"A\", \"4\") \n",
    "texto = texto.replace(\"B\", \"6\")\n",
    "texto = texto.replace(\"C\", \"(\")\n",
    "texto = texto.replace(\"D\", \"[)\")\n",
    "texto = texto.replace(\"E\", \"&\")\n",
    "texto = texto.replace(\"F\", \"]]\")\n",
    "texto = texto.replace(\"G\", \"&\")\n",
    "texto = texto.replace(\"H\", \"#\")\n",
    "texto = texto.replace(\"I\", \"!\")\n",
    "texto = texto.replace(\"J\", \".|\")\n",
    "texto = texto.replace(\"K\", \"]{\")\n",
    "texto = texto.replace(\"M\", \"(V)\")\n",
    "texto = texto.replace(\"N\", \"(\\)\")\n",
    "texto = texto.replace(\"O\", \"()\")\n",
    "texto = texto.replace(\"P\", \"[]D\")\n",
    "texto = texto.replace(\"Q\", \"(.)\")\n",
    "texto = texto.replace(\"R\", \"1²\")\n",
    "texto = texto.replace(\"S\", \"$\")\n",
    "texto = texto.replace(\"T\", \"T\")\n",
    "texto = texto.replace(\"U\", \"(_)\")\n",
    "texto = texto.replace(\"V\", \"V\")\n",
    "texto = texto.replace(\"W\", \"´//\")\n",
    "texto = texto.replace(\"X\", \"%\")\n",
    "texto = texto.replace(\"Y\", \"´/\")\n",
    "texto = texto.replace(\"Z\", \"´´/_\")\n",
    " \n",
    "print(f'Texto original  : {texto1}')\n",
    "print(f'Texto traduzido : {texto}')\n",
    "\n"
   ]
  }
 ],
 "metadata": {
  "kernelspec": {
   "display_name": "Python 3",
   "language": "python",
   "name": "python3"
  },
  "language_info": {
   "codemirror_mode": {
    "name": "ipython",
    "version": 3
   },
   "file_extension": ".py",
   "mimetype": "text/x-python",
   "name": "python",
   "nbconvert_exporter": "python",
   "pygments_lexer": "ipython3",
   "version": "3.7.1"
  }
 },
 "nbformat": 4,
 "nbformat_minor": 2
}
