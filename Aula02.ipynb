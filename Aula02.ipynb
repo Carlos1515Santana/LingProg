{
 "cells": [
  {
   "cell_type": "markdown",
   "metadata": {},
   "source": [
    "#### Carlos Sérgio Santana Santos\n",
    "#### 81712539"
   ]
  },
  {
   "cell_type": "markdown",
   "metadata": {},
   "source": [
    "1 Crie um programa que recebe uma lista de números e\n",
    "- retorne o maior elemento <\n",
    "- retorne a soma dos elementos<\n",
    "- retorne o número de ocorrências do primeiro elemento da lista<\n",
    "- retorne a média dos elementos <\n",
    "- retorne o valor mais próximo da média dos elementos\n",
    "- retorne a soma dos elementos com valor negativo<\n",
    "- retorne a quantidade de vizinhos iguais"
   ]
  },
  {
   "cell_type": "code",
   "execution_count": null,
   "metadata": {},
   "outputs": [],
   "source": [
    "list = [-1,-2,-2,4,5,6,1,8,9]\n",
    "\n",
    "somaElem = sum(list)\n",
    "maiorElem = max(list)\n",
    "primeiroElem = list.count(list[0])\n",
    "média = somaElem / len(list)\n",
    "somaNegativos = sum(c for c in list\n",
    "                      if c < 0 )\n",
    "diff = {item: abs(item - média) for item in list}\n",
    "\n",
    "vizinho = 0\n",
    "i = 0 \n",
    "\n",
    "\n",
    "while i < len(list):\n",
    "    if i < len(list)-1:\n",
    "        if list[i] == list[i+1]:\n",
    "            vizinho += 1\n",
    "    \n",
    "    i += 1\n",
    "    \n",
    "vizinhos = vizinho * 2\n",
    "\n",
    "\n",
    "\n",
    "print(\"Soma dos elementos : \", somaElem)\n",
    "print(\"Maior elemento : \", maiorElem)\n",
    "print(\"Quantidade de ocorrências do primeiro elemento :\" , primeiroElem)\n",
    "print(\"Média dos elementos da lista: \" , média )\n",
    "print(\"Soma dos elementos negativos: \" ,somaNegativos)\n",
    "print(\"Quantidade de vizinhos iguais :\" , vizinhos)\n",
    "print(f'Valor mais próximo da média dos elementos: {min(diff, key=diff.get)}',\")\n",
    "\n"
   ]
  },
  {
   "cell_type": "markdown",
   "metadata": {},
   "source": [
    "#### 2 Faça um programa que receba duas listas e retorne True se são iguais ou False caso contrario. Duas listas são iguais se possuem os mesmos valores e na mesma ordem."
   ]
  },
  {
   "cell_type": "code",
   "execution_count": null,
   "metadata": {},
   "outputs": [],
   "source": [
    "import random\n",
    "list1 = [random.randrange(-10,10) for c in range(3)]\n",
    "list2 = [random.randrange(-10,10) for c in range(3)]\n",
    "\n",
    "print(f'Lista 1: {list1}')\n",
    "print(f'lista 2: {list2}')\n",
    "print(list1 == list2)"
   ]
  },
  {
   "cell_type": "markdown",
   "metadata": {},
   "source": [
    "#### 3 Faça um programa que receba duas listas e retorne True se têm os mesmos elementos ou False caso contrário Duas listas possuem os mesmos elementos quando são compostas pelos mesmos valores, mas não obrigatoriamente na mesma ordem."
   ]
  },
  {
   "cell_type": "code",
   "execution_count": null,
   "metadata": {},
   "outputs": [],
   "source": [
    "import random\n",
    "list1 = [1,2,3]\n",
    "list2 = [3,2,1]\n",
    "\n",
    "list1.sort()\n",
    "list2.sort()\n",
    "\n",
    "def possuemMesmoConteudo(list1, list2):\n",
    "         \n",
    "        if len(list1) == len(list2):\n",
    "            for i in range(0, len(list2)):\n",
    "                if list1[i] != list2[i]:\n",
    "                    return False\n",
    "            return True\n",
    "        return False\n",
    "    \n",
    "\n",
    "\n",
    "print(f'Lista 1: {list1}',\n",
    "      f'lista 2: {list2}')\n",
    "print(f'Tem exatamente os mesmos valores com a mesma quantidade de repetição: {possuemMesmoConteudo(list1, list2)}')\n"
   ]
  },
  {
   "cell_type": "markdown",
   "metadata": {},
   "source": [
    "4) Faça um programa que percorre uma lista com o seguinte formato: \n",
    "[['Brasil','Italia', [10, 9]], ['Brasil', 'Espanha', [5, 7]], ['Italia', 'Espanha', [7,8]]]. \n",
    "Essa lista indica o\n",
    "número de faltas que cada time fez em cada jogo. Na lista acima, no jogo entre Brasil\n",
    "e Itália, o Brasil fez 10 faltas e a Itália fez 9.\n",
    "O programa deve imprimir na tela:\n",
    "- o total de faltas do campeonato\n",
    "- o time que fez mais faltas\n",
    "- o time que fez menos faltas"
   ]
  },
  {
   "cell_type": "code",
   "execution_count": null,
   "metadata": {},
   "outputs": [],
   "source": [
    "list = [['Brasil', 'Italia', [10, 9]], ['Brasil', 'Espanha', [5, 7]], ['Italia', 'Espanha', [7,8]]]\n",
    "\n",
    "total_faltas = 0\n",
    "i = 0\n",
    "for jogo in list:\n",
    "    total_faltas += jogo[2][0] + jogo[2][1]\n",
    "print(f'O total de faltas do campeonato: {total_faltas}')\n",
    "\n",
    "d = {}\n",
    "for jogo in list:\n",
    "    d[jogo[0]] = 0\n",
    "    d[jogo[1]] = 0\n",
    "\n",
    "\n",
    "for jogo in list:\n",
    "    d[jogo[0]] += jogo[2][0]\n",
    "    d[jogo[1]] += jogo[2][1]\n",
    "    \n",
    "print(f'Time com mais faltas: {max(d)} - {d[max(d)]} faltas')\n",
    "print(f'Time com menos faltas: {min(d)} - {d[min(d)]} faltas')\n",
    "    \n"
   ]
  },
  {
   "cell_type": "markdown",
   "metadata": {},
   "source": [
    "#### 5) Escreva um programa que conta a quantidade de vogais em uma string e armazena tal quantidade em um dicionário, onde a chave é a vogal considerada."
   ]
  },
  {
   "cell_type": "code",
   "execution_count": null,
   "metadata": {},
   "outputs": [],
   "source": [
    "  def contarVogais(palavra):\n",
    "    vogais = \"aeiou\"\n",
    "    totalVogal = 0\n",
    "    for letra in palavra:\n",
    "        if letra in vogais:\n",
    "            totalVogal += 1\n",
    "    return totalVogal\n",
    "\n",
    "\n",
    "d = {}\n",
    "for letra in vogais:\n",
    "    d[letra] = 0\n",
    "for letra in palavra:\n",
    "    if letra in vogais:\n",
    "        d[letra] += 1\n",
    "print(d)\n",
    "\n",
    "\n",
    "palavra = \"abecedario\";\n",
    "print(\"TOTAL DE VOGAIS: \", contarVogais(palavra))\n"
   ]
  },
  {
   "cell_type": "markdown",
   "metadata": {},
   "source": [
    "6)Escreva um programa que lê̂ duas notas de vários alunos e armazena tais notas em\n",
    "um dicionário, onde a chave é o nome do aluno. A entrada de dados deve terminar\n",
    "quando for lida uma string vazia como nome. Escreva uma função que retorna a\n",
    "média do aluno, dado seu nome."
   ]
  },
  {
   "cell_type": "code",
   "execution_count": null,
   "metadata": {},
   "outputs": [],
   "source": [
    "nome = input(\"DIGITE O NOME DO ALUNO\")\n",
    "d = {}\n",
    "i = 0\n",
    "while nome:\n",
    "    d[nome] = [float(input(f'Digite a primeira nota do(a) {nome}: ')), float(input(f'Digite a segunda nota do(a)  {nome}: '))]\n",
    "    nome = input(\"Digite um novo aluno ou aperte enter para sair: \")\n",
    "\n",
    "\n",
    "\n",
    "nome = input(\"Digite o nome do aluno para ver a média : \")\n",
    "aluno = d[nome]\n",
    "\n",
    "print(f'Média do aluno {nome} é : {sum(aluno)/len(aluno)}' )\n",
    "\n",
    " "
   ]
  },
  {
   "cell_type": "markdown",
   "metadata": {},
   "source": [
    "7) Uma pista de Kart permite 10 voltas para cada um de 6 corredores. Escreva um\n",
    "programa que leia todos os tempos em segundos e os guarde em um dicionário,\n",
    "onde a chave é o nome do corredor. Ao final diga de quem foi a melhor volta da\n",
    "prova e em que volta; e ainda a classificação final em ordem (1o o campeão). O\n",
    "campeão é o que tem a menor média de tempos."
   ]
  },
  {
   "cell_type": "code",
   "execution_count": 18,
   "metadata": {},
   "outputs": [
    {
     "name": "stdout",
     "output_type": "stream",
     "text": [
      "DIGITE O NEME DO CORREDOR : t\n",
      "Digite o tempo de sua volta  t: 3\n",
      "Digite o tempo de sua volta  t: 4\n",
      "DIGITE O NEME DO CORREDOR : carlos\n",
      "Digite o tempo de sua volta  carlos: 5\n",
      "Digite o tempo de sua volta  carlos: 2\n",
      "{'t': [3.0, 4.0], 'carlos': [5.0, 2.0]}\n",
      "t\n"
     ]
    },
    {
     "ename": "TypeError",
     "evalue": "can only concatenate list (not \"float\") to list",
     "output_type": "error",
     "traceback": [
      "\u001b[1;31m---------------------------------------------------------------------------\u001b[0m",
      "\u001b[1;31mTypeError\u001b[0m                                 Traceback (most recent call last)",
      "\u001b[1;32m<ipython-input-18-89a8670f3cf8>\u001b[0m in \u001b[0;36m<module>\u001b[1;34m\u001b[0m\n\u001b[0;32m     23\u001b[0m     \u001b[0mprint\u001b[0m\u001b[1;33m(\u001b[0m\u001b[0mkey\u001b[0m\u001b[1;33m)\u001b[0m\u001b[1;33m\u001b[0m\u001b[1;33m\u001b[0m\u001b[0m\n\u001b[0;32m     24\u001b[0m     \u001b[1;32mfor\u001b[0m \u001b[0mitem\u001b[0m \u001b[1;32min\u001b[0m \u001b[0mvalue\u001b[0m\u001b[1;33m:\u001b[0m\u001b[1;33m\u001b[0m\u001b[1;33m\u001b[0m\u001b[0m\n\u001b[1;32m---> 25\u001b[1;33m         \u001b[0mlist\u001b[0m \u001b[1;33m=\u001b[0m \u001b[0mlist\u001b[0m \u001b[1;33m+\u001b[0m \u001b[0mitem\u001b[0m\u001b[1;33m\u001b[0m\u001b[1;33m\u001b[0m\u001b[0m\n\u001b[0m\u001b[0;32m     26\u001b[0m         \u001b[0mprint\u001b[0m\u001b[1;33m(\u001b[0m\u001b[0mitem\u001b[0m\u001b[1;33m)\u001b[0m\u001b[1;33m\u001b[0m\u001b[1;33m\u001b[0m\u001b[0m\n\u001b[0;32m     27\u001b[0m \u001b[1;33m\u001b[0m\u001b[0m\n",
      "\u001b[1;31mTypeError\u001b[0m: can only concatenate list (not \"float\") to list"
     ]
    }
   ],
   "source": [
    "from operator import itemgetter\n",
    "\n",
    "nome = input(\"DIGITE O NEME DO CORREDOR : \")\n",
    "corredores = {}\n",
    "voltas ={}\n",
    "aux_voltas = []\n",
    "aux1_voltas = []\n",
    "\n",
    "for item in range(1, 3):\n",
    "    aux_voltas.append(float(input(f'Digite o tempo de sua volta  {nome}: ')))\n",
    "voltas[nome] = aux_voltas\n",
    "\n",
    "corredo1 = input(\"DIGITE O NEME DO CORREDOR : \")    \n",
    "for item in range(1, 3):\n",
    "    aux1_voltas.append(float(input(f'Digite o tempo de sua volta  {corredo1}: ')))\n",
    "voltas[corredo1] = aux1_voltas\n",
    "\n",
    "print(voltas)\n",
    "\n",
    "list = []\n",
    "\n",
    "for key, value in voltas.items():\n",
    "    print(key)\n",
    "    for item in value:\n",
    "        list = list + item\n",
    "        print(item)\n",
    "\n",
    "print('Menor volta da corrida é do :', min(voltas, key=voltas.get))\n",
    "print('volta mais rapida' , min(list))\n",
    " \n",
    " \n",
    "\n",
    "\n"
   ]
  },
  {
   "cell_type": "markdown",
   "metadata": {},
   "source": [
    "8 Escreva um programa para armazenar uma agenda de telefones em um dicionário.\n",
    "Cada pessoa pode ter um ou mais telefones e a chave do dicionário é o nome da\n",
    "pessoa. Seu programa deve ter as seguintes funções:\n",
    "- incluirNovoNome – essa função acrescenta um novo nome na agenda, com um ou\n",
    "mais telefones. Ela deve receber como argumentos o nome e os telefones.\n",
    "- incluirTelefone – essa função acrescenta um telefone em um nome existente na\n",
    "agenda. Caso o nome não exista na agenda, você̂ deve perguntar se a pessoa deseja\n",
    "inclui-lo. Caso a resposta seja afirmativa, use a função anterior para incluir o novo\n",
    "nome.\n",
    "- excluirTelefone – essa função exclui um telefone de uma pessoa que já está na\n",
    "agenda. Se a pessoa tiver apenas um telefone, ela deve ser excluída da agenda.\n",
    "- excluirNome – essa função exclui uma pessoa da agenda."
   ]
  },
  {
   "cell_type": "code",
   "execution_count": null,
   "metadata": {},
   "outputs": [],
   "source": [
    "agenda = {}\n",
    "\n",
    "def incluirNome(nome, telefones):\n",
    "    agenda[nome] = telefones\n",
    "    \n",
    "def incluirTelefone(nome, telefone):\n",
    "    if nome in agenda.keys():\n",
    "        agenda[nome].append(telefone)\n",
    "    elif input(\"Essa pessoa não existe\")\n",
    "        incluirNovoNome(nome, [telefone])\n",
    "\n",
    "def excluirTelefone(nome, telefone):\n",
    "    if nome in agenda.keys():\n",
    "        if len(agenda[nome]) == 1:\n",
    "            del agenda[nome]\n",
    "        else:\n",
    "            agenda[nome].remove(telefone)\n",
    "\n",
    "def excluirNome(nome):\n",
    "    del agenda[nome]\n",
    "\n",
    "def consultarTelefone(nome):\n",
    "    return agenda[nome]\n",
    "\n",
    "id = -1\n",
    "while id != 0:\n",
    "    \n",
    "    id = int(input(\"\\nEscolha uma opção: \\n1 - Incluir Novo Nome\\n2 - Incluir Telefone\\n3 - Excluir Telefone\\n4 - Excluir Nome \\n5 - Consultar Agenda\\n0 - Encerrar Programa\\n\"))\n",
    "    \n",
    "    if id == 1 or \"s\":\n",
    "        nome = input(\"Insira o nome da pessoa: \")\n",
    "        telefone  = input(\"Insira um telefone da pessoa: \")\n",
    "        incluirNome(nome, telefone)            \n",
    "    elif id == 2:\n",
    "        incluirTelefone(input(\"Insira o nome da pessoa: \"), input(\"Insira um novo telefone da pessoa: \"))\n",
    "    elif id == 3:\n",
    "        excluirTelefone(input(\"Insira o nome da pessoa: \"), input(\"Insira o telefone da pessoa a qual deseja excluir: \"))\n",
    "    elif id == 4:\n",
    "        excluirNome(input(\"Insira o nome da pessoa: \"))\n",
    "    elif id == 5:\n",
    "        print(consultarTelefone(input(\"Insira o nome da pessoa: \")))"
   ]
  },
  {
   "cell_type": "markdown",
   "metadata": {},
   "source": [
    "10 A ACME Inc., uma empresa de 500 funcionários, está tendo problemas de espaço em disco no seu servidor de arquivos. Para tentar resolver este problema, o Administrador de Rede precisa saber qual o espaço ocupado pelos usuários, e identificar os usuários com maior espaço ocupado. Através de um programa, baixado da Internet, ele conseguiu gerar o seguinte arquivo, chamado \"usuarios.txt\":\n",
    "\n",
    "alexandre 456123789\n",
    "anderson 1245698456\n",
    "antonio 123456456\n",
    "carlos 91257581\n",
    "cesar 987458\n",
    "rosemary 789456125\n",
    "\n",
    "Neste arquivo, o nome do usuário possui 15 caracteres. A partir deste arquivo, você deve criar um programa que gere um relatório, chamado \"relatório.txt\", no seguinte formato:\n",
    "\n",
    "ACME Inc. Uso do espaço em disco pelos usuários\n",
    "--------------------------------------------------------------\n",
    "----------\n",
    "Nr. Usuário Espaço utilizado % do uso\n",
    "1 alexandre 434,99 MB 16,85%\n",
    "2 anderson 1187,99 MB 46,02%\n",
    "3 antonio 117,73 MB 4,56%\n",
    "4 carlos 87,03 MB 3,37%\n",
    "5 cesar 0,94 MB 0,04%\n",
    "6 rosemary 752,88 MB 29,16%\n",
    "Espaço total ocupado: 2581,57 MB\n",
    "Espaço médio ocupado: 430,26 MB\n",
    "\n",
    "O arquivo de entrada deve ser lido uma única vez, e os dados armazenados em memória, caso sejam necessários, de forma a agilizar a execução do programa. A conversão da espaço ocupado em disco, de bytes para megabytes deverá ser feita através de uma função separada, que será chamada pelo programa principal. O cálculo do percentual de uso também deverá ser feito através de uma função, que será chamada pelo programa principal."
   ]
  },
  {
   "cell_type": "code",
   "execution_count": null,
   "metadata": {},
   "outputs": [],
   "source": [
    "def paraMb(tamanho):,\n",
    "    return float(tamanho / (1024*1024))\n",
    "    \n",
    "      def usoMemoria(tamanho, total):\n",
    "            return float(tamanho / total) * 100 \n",
    "   \n",
    "    dic = {} \n",
    "    total = 0 \n",
    "    usuarios = open(\\\"usuarios.txt\\\") \n",
    "    \n",
    "    for usuario in usuarios: \n",
    "        nome, memoria = usuario.split(\\\" \\\")\n",
    "        dic[nome] = int(memoria)\n",
    "        total += int(memoria)\n",
    "    usuarios.close()\n",
    "    media = total / len(dic.keys())\n",
    "    \n",
    "    relatorio = open(\\\"relatório.txt\\\", \\\"w+\\\")\n",
    "    relatorio.write(\\\"ACME Inc.               Uso do espaço em disco pelos usuários.\\\\n\\\")\n",
    "    relatorio.write(\\\"--------------------------------------------------------------\\\\n\\\")\n",
    "    relatorio.write(\\\"Nr.\\\\tUsuário \\\\tEspaço utilizado\\\\t% do uso\\\\n\\\")\n",
    "    \n",
    "    nr = 1\n",
    "    for usuario in dic:\n",
    "        relatorio.write(str(nr) + \\\"\\\\t\\\" + usuario + \\\"\\\\t\\\" + \\\"{0:.2f}\\\".format(paraMb(dic[usuario])) + \\\" MB\\\\t\\\\t\\\" + \\\"{0:.2f}\\\".format(usoMemoria(dic[usuario], total)) + \\\"%\\\\n\\\")\n",
    "        nr += 1\n",
    "        \n",
    "    \n",
    "    relatorio.write(\\\"Espaço total ocupado: \\\" + \\\"{0:.2f}\\\".format(paraMb(total)) + \\\"\\\\n\\\")\n",
    "    relatorio.write(\\\"Espaço médio ocupado: \\\" + \\\"{0:.2f}\\\".format(paraMb(media)))\n",
    "    \n",
    "    relatorio.close()\""
   ]
  },
  {
   "cell_type": "markdown",
   "metadata": {},
   "source": [
    "9 Faça um programa que leia um arquivo texto contendo uma lista de endereços IP e\n",
    "gere um outro arquivo, contendo um relatório dos endereços IP válidos e inválidos.\n",
    "O arquivo de entrada possui o seguinte formato:\n"
   ]
  },
  {
   "cell_type": "code",
   "execution_count": null,
   "metadata": {},
   "outputs": [],
   "source": [
    "import socket\n",
    "\n",
    "ips_validos = []\n",
    "ips_invalidos = []\n",
    "\n",
    "ips = open(\"ips.txt\")\n",
    "\n",
    "for ip in ips:\n",
    "    try:\n",
    "        socket.inet_aton(ip)\n",
    "        ips_validos.append(ip)\n",
    "    except:\n",
    "        ips_invalidos.append(ip)\n",
    "        \n",
    "ips.close()\n",
    "\n",
    "saida = open(\"ipsvalidados.txt\", \"w+\")\n",
    "\n",
    "saida.write(\"[Endereços válidos:]\\n\")\n",
    "for ip in ips_validos:\n",
    "    saida.write(ip)\n",
    "    \n",
    "saida.write(\"\\nEndereços inválidos:}\\n\")\n",
    "for ip in ips_invalidos:\n",
    "    saida.write(ip)\n",
    "    \n",
    "saida.close()"
   ]
  },
  {
   "cell_type": "code",
   "execution_count": null,
   "metadata": {},
   "outputs": [],
   "source": [
    "import socket\n",
    "\n",
    "ips_validos = []\n",
    "ips_invalidos = []\n",
    "\n",
    "ips = open(\"ips.txt\")\n",
    "\n",
    "for ip in ips:\n",
    "    try:\n",
    "        socket.inet_aton(ip)\n",
    "        ips_validos.append(ip)\n",
    "    except:\n",
    "        ips_invalidos.append(ip)\n",
    "        \n",
    "ips.close()\n",
    "\n",
    "saida = open(\"ipsvalidados.txt\", \"w+\")\n",
    "\n",
    "saida.write(\"[Endereços válidos:]\\n\")\n",
    "for ip in ips_validos:\n",
    "    saida.write(ip)\n",
    "    \n",
    "saida.write(\"\\nEndereços inválidos:}\\n\")\n",
    "for ip in ips_invalidos:\n",
    "    saida.write(ip)\n",
    "    \n",
    "saida.close()"
   ]
  }
 ],
 "metadata": {
  "kernelspec": {
   "display_name": "Python 3",
   "language": "python",
   "name": "python3"
  },
  "language_info": {
   "codemirror_mode": {
    "name": "ipython",
    "version": 3
   },
   "file_extension": ".py",
   "mimetype": "text/x-python",
   "name": "python",
   "nbconvert_exporter": "python",
   "pygments_lexer": "ipython3",
   "version": "3.7.1"
  }
 },
 "nbformat": 4,
 "nbformat_minor": 2
}
