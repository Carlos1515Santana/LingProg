{
 "cells": [
  {
   "cell_type": "markdown",
   "metadata": {},
   "source": [
    "## Nome: Carlos Sérgio Santana\n",
    "## RA:81712539\n"
   ]
  },
  {
   "cell_type": "markdown",
   "metadata": {},
   "source": [
    "1 - Defina a função soma_nat que recebe como argumento um número natural n e devolve a soma de todos os números naturais até n. Ex: soma_nat(5) = 15"
   ]
  },
  {
   "cell_type": "code",
   "execution_count": 1,
   "metadata": {},
   "outputs": [],
   "source": [
    "def soma_nat(n):\n",
    "    return n + soma_nat(n - 1) if n > 0 else 0\n",
    "\n",
    "soma_nat(5)\n",
    "assert(soma_nat(5) == 15)"
   ]
  },
  {
   "cell_type": "markdown",
   "metadata": {},
   "source": [
    "2 Defina a função div que recebe como argumentos dois números naturais m e n e devolve o resultado da divisão inteira de m por n. Neste exercício você não pode recorrer às operações aritméticas de multiplicação, divisão e resto da divisão inteira.\n"
   ]
  },
  {
   "cell_type": "code",
   "execution_count": 4,
   "metadata": {},
   "outputs": [],
   "source": [
    "def div(m, n):\n",
    "    return 1 + div(m - n, n) if m >= n else 0\n",
    "assert(div(7,2) == 3)"
   ]
  },
  {
   "cell_type": "markdown",
   "metadata": {},
   "source": [
    "3 Defina a função prim_alg que recebe como argumento um número natural e devolve o primeiro algarismo (o mais significativo) na representação decimal de n.\n"
   ]
  },
  {
   "cell_type": "code",
   "execution_count": 6,
   "metadata": {},
   "outputs": [
    {
     "name": "stdout",
     "output_type": "stream",
     "text": [
      "1\n",
      "8\n"
     ]
    }
   ],
   "source": [
    "def prim_alg(n):\n",
    "           return print(n[0])\n",
    "\n",
    "prim_alg(\"1000\")\n",
    "prim_alg(\"89\")"
   ]
  },
  {
   "cell_type": "markdown",
   "metadata": {},
   "source": [
    "4 - Defina a função prod_lista que recebe como argumento uma lista de inteiros e devolve o produto dos seus elementos. Ex: prod_lista([1,2,3,4,5,6]) = 720"
   ]
  },
  {
   "cell_type": "code",
   "execution_count": 9,
   "metadata": {},
   "outputs": [],
   "source": [
    "def prod_lista(lista):\n",
    "           return lista[len(lista) - 1] * prod_lista(lista[:-1]) if len(lista) > 0 else 1\n",
    "\n",
    "assert(prod_lista([1,2,3,4,5,6]) == 720)"
   ]
  },
  {
   "cell_type": "markdown",
   "metadata": {},
   "source": [
    "5 - Defina a função contem_parQ que recebe como argumento uma lista de números inteiros w e devolve True se w contém um número par e False em caso contrário. Ex: contem_parQ([2,3,1,2,3,4]) = True Ex: contem_parQ([1,3,5,7]) = False"
   ]
  },
  {
   "cell_type": "code",
   "execution_count": 14,
   "metadata": {},
   "outputs": [
    {
     "name": "stdout",
     "output_type": "stream",
     "text": [
      "True\n",
      "False\n"
     ]
    }
   ],
   "source": [
    "def contem_parQ(w):\n",
    "                if len(w) == 0:\n",
    "                     return False\n",
    "                else:\n",
    "                    a = w.pop()\n",
    "                    if a%2 == 0:\n",
    "                        return True\n",
    "                    else:\n",
    "                        return contem_parQ(w)\n",
    "\n",
    "\n",
    "assert(contem_parQ([2,3,1,2,3,4]) == True)\n",
    "assert(contem_parQ([1,3,5,7]) == False)\n",
    "\n",
    "print(contem_parQ([2,3,1,2,3,4]))\n",
    "print(contem_parQ([1,3,5,7]))"
   ]
  },
  {
   "cell_type": "markdown",
   "metadata": {},
   "source": [
    "6 - Defina a função todos_imparesQ que recebe como argumento uma lista de números inteiros w e devolve True se w contém apenas números ímpares e False em caso contrário.\n",
    "\n",
    "Ex: todos_imparesQ([1,3,5,7]) = True\n",
    "\n",
    "Ex: todos_imparesQ([]) = True\n",
    "\n",
    "Ex: todos_imparesQ([1,2,3,4,5]) = False"
   ]
  },
  {
   "cell_type": "code",
   "execution_count": 17,
   "metadata": {},
   "outputs": [],
   "source": [
    "def todos_imparesQ(w):\n",
    "    return True if len(w) == 0 or (w[len(w) - 1] % 2 != 0 and todos_imparesQ(w[:-1])) else False\n",
    "\n",
    "\n",
    "assert(todos_imparesQ([1,3,5,7]) == True)\n",
    "assert(todos_imparesQ([]) == True)\n",
    "assert(todos_imparesQ([1,2,3,4,5]) == False)\n",
    "\n",
    " "
   ]
  },
  {
   "cell_type": "markdown",
   "metadata": {},
   "source": [
    "7 - Defina a função pertenceQ que recebe como argumentos uma lista de números inteiros w e um número inteiro n e devolve True se n ocorre em w e False em caso contrário.\n",
    "Ex: pertenceQ([1,2,3],1) = True\n",
    "Ex: pertenceQ([1,2,3],2) = True\n",
    "Ex: pertenceQ([1,2,3],3) = True\n",
    "Ex: pertenceQ([1,2,3],4) = False"
   ]
  },
  {
   "cell_type": "code",
   "execution_count": 21,
   "metadata": {},
   "outputs": [
    {
     "name": "stdout",
     "output_type": "stream",
     "text": [
      "True\n",
      "True\n",
      "True\n",
      "False\n"
     ]
    }
   ],
   "source": [
    "def pertenceQ(w,n):\n",
    "    return True if len(w) > 0 and (w[len(w)-1]== n or pertenceQ(w[:-1],n)) else False\n",
    "\n",
    "\n",
    "assert(pertenceQ([1,2,3],1) == True)\n",
    "assert(pertenceQ([1,2,3],2) == True)\n",
    "assert(pertenceQ([1,2,3],3) == True)\n",
    "assert(pertenceQ([1,2,3],4) == False)\n",
    "print(pertenceQ([1,2,3],1))\n",
    "print(pertenceQ([1,2,3],2))\n",
    "print(pertenceQ([1,2,3],3))\n",
    "print(pertenceQ([1,2,3],4))\n"
   ]
  },
  {
   "cell_type": "markdown",
   "metadata": {},
   "source": [
    "8 - Defina a função junta que recebe como argumentos duas listas de números inteiros w1 e w2 e devolve a concatenação de w1 com w2 .\n",
    "Ex: junta([1,2,3],[4,5,6]) = [1, 2, 3, 4, 5, 6]\n",
    "Ex: junta([],[4,5,6]) = [4, 5, 6]\n",
    "Ex: junta([1,2,3],[]) = [1, 2, 3]"
   ]
  },
  {
   "cell_type": "code",
   "execution_count": 22,
   "metadata": {},
   "outputs": [
    {
     "name": "stdout",
     "output_type": "stream",
     "text": [
      "[1, 2, 3, 4, 5, 6]\n",
      "[4, 5, 6]\n",
      "[1, 2, 3]\n"
     ]
    }
   ],
   "source": [
    "def junta(w1,w2):\n",
    "    return w1+w2\n",
    "\n",
    "print(junta([1,2,3],[4,5,6]))\n",
    "print(junta([],[4,5,6]))\n",
    "print(junta([1,2,3],[]))"
   ]
  },
  {
   "cell_type": "markdown",
   "metadata": {},
   "source": [
    "9 Defina a função temPrimoQ que recebe como argumento uma lista de listas de números inteiros w e devolve True se alguma das sublistas w tem um número primo e False em caso contrário. Ex: temPrimoQ([[4,4,4,4],[5,4,6,7],[2,4,3]]) = True Ex: temPrimoQ([[4,4,4,4],[4,4,4],[],[4]]) = False\n"
   ]
  },
  {
   "cell_type": "code",
   "execution_count": 23,
   "metadata": {},
   "outputs": [],
   "source": [
    "def temPrimoQ(w):\n",
    "    pass"
   ]
  },
  {
   "cell_type": "markdown",
   "metadata": {},
   "source": [
    "10-Defina a função inverteLista que recebe como argumento uma lista w e devolve a mesma lista mas invertida."
   ]
  },
  {
   "cell_type": "code",
   "execution_count": 27,
   "metadata": {},
   "outputs": [
    {
     "name": "stdout",
     "output_type": "stream",
     "text": [
      "[90, 4, 3, 2, 1]\n",
      "[]\n"
     ]
    }
   ],
   "source": [
    "def inverteLista(w):\n",
    "    return [w[len(w) - 1]] + (inverteLista(w[:-1])) if len(w) > 0 else []\n",
    "\n",
    "assert(inverteLista([1,2,3,4,90]) == [90, 4, 3, 2, 1])\n",
    "assert(inverteLista([]) == [])\n",
    "\n",
    "print(inverteLista([1,2,3,4,90]))\n",
    "print(inverteLista([]))"
   ]
  },
  {
   "cell_type": "code",
   "execution_count": null,
   "metadata": {},
   "outputs": [],
   "source": []
  }
 ],
 "metadata": {
  "kernelspec": {
   "display_name": "Python 3",
   "language": "python",
   "name": "python3"
  },
  "language_info": {
   "codemirror_mode": {
    "name": "ipython",
    "version": 3
   },
   "file_extension": ".py",
   "mimetype": "text/x-python",
   "name": "python",
   "nbconvert_exporter": "python",
   "pygments_lexer": "ipython3",
   "version": "3.7.1"
  }
 },
 "nbformat": 4,
 "nbformat_minor": 2
}
