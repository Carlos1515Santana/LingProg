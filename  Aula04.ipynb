{
 "cells": [
  {
   "cell_type": "markdown",
   "metadata": {},
   "source": [
    "### Carlos Sérgio Santana --- 81712539\n"
   ]
  },
  {
   "cell_type": "markdown",
   "metadata": {},
   "source": [
    "1)Menor de dois pares: Escreva uma função que retorne o menor de dois números dados se ambos os números forem pares, mas retorna o maior se um dos dois for ímpar. Exemplo:\n",
    "\n",
    "menor_de_dois_pares(2,4) --> 2\n",
    "menor_de_dois_pares (2,5) --> 5"
   ]
  },
  {
   "cell_type": "code",
   "execution_count": 9,
   "metadata": {},
   "outputs": [
    {
     "name": "stdout",
     "output_type": "stream",
     "text": [
      "Os dois números com menor valor :  2 5\n"
     ]
    }
   ],
   "source": [
    "def menor_de_dois(num1,num2):\n",
    "        if num1 % 2 == 0 and num2 % 2 == 0: \n",
    "            if num1 < num2:\n",
    "                return num1\n",
    "            else:\n",
    "                return num2\n",
    "        else:\n",
    "            if num1 > num2:\n",
    "                return num1\n",
    "            else:\n",
    "                return num2\n",
    "            \n",
    "\n",
    "\n",
    "print( \"Os dois números com menor valor : \", menor_de_dois(2,4), menor_de_dois(2,5))"
   ]
  },
  {
   "cell_type": "markdown",
   "metadata": {},
   "source": [
    "2) Mesma letra: Escreva uma função que receba uma string com duas palavras e\n",
    "retorne True se ambas palavras começarem com a mesma letra. Exemplo:\n",
    "mesma_letra('Cão covarde') -> True\n",
    "mesma_letra('Vira Lata') -> False"
   ]
  },
  {
   "cell_type": "code",
   "execution_count": 18,
   "metadata": {},
   "outputs": [
    {
     "name": "stdout",
     "output_type": "stream",
     "text": [
      "mesma_letra('Cão Covarde') --> True\n",
      "mesma_letra('Vira Lata') --> False\n"
     ]
    }
   ],
   "source": [
    "def mesma_letra(arg):\n",
    "        palavras = arg.split(' ')\n",
    "        if palavras[0][0:1] == palavras[1][0:1]:\n",
    "            return True\n",
    "        else:\n",
    "            return False\n",
    "    \n",
    "\n",
    "print(f\"mesma_letra('Cão Covarde') --> {mesma_letra('Cão Covarde')}\")\n",
    "print(f\"mesma_letra('Vira Lata') --> {mesma_letra('Vira Lata')}\")"
   ]
  },
  {
   "cell_type": "markdown",
   "metadata": {},
   "source": [
    "3) Mestre Yoda: Dada uma sentença, a função deve retornar a sentença com as\n",
    "palavras na ordem reversa. Exemplo:\n",
    "mestre_yoda('Eu estou em casa') --> 'casa em estou Eu'\n",
    "mestre_yoda('Estamos prontos') --> 'prontos Estamos'"
   ]
  },
  {
   "cell_type": "code",
   "execution_count": 28,
   "metadata": {},
   "outputs": [
    {
     "data": {
      "text/plain": [
       "\"'casa em estou Eu'\""
      ]
     },
     "execution_count": 28,
     "metadata": {},
     "output_type": "execute_result"
    }
   ],
   "source": [
    "def mestre_yoda(x):\n",
    "    sentenca_quebrada = x.split()\n",
    "    sentenca_inversa = ' '\n",
    "    return f\"'{sentenca_inversa.join(sentenca_quebrada[::-1])}'\"\n",
    "\n",
    "            \n",
    "x = 'Eu estou em casa'            \n",
    "mestre_yoda(x)"
   ]
  },
  {
   "cell_type": "markdown",
   "metadata": {},
   "source": [
    "4 Tem 33: Faça uma função que retorne True se, dada uma lista de inteiros, houver\n",
    "em alguma posição da lista um 3 do lado de outro 3. Exemplo:\n",
    "tem_33([1,3,3]) --> True\n",
    "tem_33([1,3,1,3]) --> False\n",
    "tem_33([3,1,3]) --> False"
   ]
  },
  {
   "cell_type": "code",
   "execution_count": 32,
   "metadata": {},
   "outputs": [
    {
     "name": "stdout",
     "output_type": "stream",
     "text": [
      "True\n",
      "False\n",
      "False\n"
     ]
    }
   ],
   "source": [
    "def tem_33(x):\n",
    "        hasTres = False\n",
    "        for i in x:\n",
    "            if i == 3:\n",
    "                if hasTres is True:\n",
    "                    return True\n",
    "                else:\n",
    "                    hasTres = True\n",
    "            else:\n",
    "                hasTres = False\n",
    "        else:\n",
    "            return False\n",
    "        \n",
    "print(tem_33([1,3,3]))\n",
    "print(tem_33([1,3,1,3]))\n",
    "print(tem_33([3,1,3]))"
   ]
  },
  {
   "cell_type": "markdown",
   "metadata": {},
   "source": [
    "5)Blackjack: Faça uma função que receba 3 inteiros entre 1 e 11. Se a soma deles for menor que 21, retorne o valor da soma. Se for mair do que 21 e houver um 11, subtraia 10 da soma antes de apresentar o resultado. Se o valor da soma passar de 21, retorne ‘ESTOUROU’. Exemplo:\n",
    "\n",
    "blackjack(5,6,7) --> 18\n",
    "blackjack(9,9,9) --> 'ESTOUROU'\n",
    "blackjack(9,9,11) --> 19"
   ]
  },
  {
   "cell_type": "code",
   "execution_count": 34,
   "metadata": {},
   "outputs": [
    {
     "name": "stdout",
     "output_type": "stream",
     "text": [
      "18\n",
      "ESTOROU\n",
      "19\n"
     ]
    }
   ],
   "source": [
    "def blackjack(arg1, arg2, arg3):\n",
    "        soma = arg1 + arg2 + arg3\n",
    "        if soma <= 21:\n",
    "            return soma\n",
    "        else:\n",
    "            if arg1 == 11 or arg2 == 11 or arg3 == 11:\n",
    "                soma = soma - 10\n",
    "            if soma > 21:\n",
    "                return 'ESTOROU'\n",
    "            else:\n",
    "                return soma\n",
    "            \n",
    "\n",
    "print(blackjack(5,6,7))\n",
    "print(blackjack(9,9,9))\n",
    "print(blackjack(9,9,11))"
   ]
  },
  {
   "cell_type": "markdown",
   "metadata": {},
   "source": [
    "6) Espião: Escreva uma função que receba uma lista de\n",
    "inteiros e retorne True se contém um 007 em ordem, mesmo\n",
    "que não contínuo. Exemplo:\n",
    "espiao([1,2,4,0,0,7,5]) --> True\n",
    "espiao([1,0,2,4,0,5,7]) --> True\n",
    "espiao([1,7,2,4,0,5,0]) --> False"
   ]
  },
  {
   "cell_type": "code",
   "execution_count": 38,
   "metadata": {},
   "outputs": [
    {
     "name": "stdout",
     "output_type": "stream",
     "text": [
      "True\n",
      "True\n",
      "False\n"
     ]
    }
   ],
   "source": [
    "def espiao(arg):\n",
    "        zero1 = False\n",
    "        zero2 = False\n",
    "        sete = False\n",
    "        for i in arg:\n",
    "            if i == 0:\n",
    "                if sete is False:\n",
    "                    if zero1 is False and zero2 is False:\n",
    "                        zero1 = True\n",
    "                    elif zero1 is True and zero2 is False:\n",
    "                        zero2 = True\n",
    "                    else:\n",
    "                        return False\n",
    "                else:\n",
    "                    return False\n",
    "            elif i == 7:\n",
    "                if zero1 is True and zero2 is True:\n",
    "                    return True\n",
    "                else:\n",
    "                    return False\n",
    "                \n",
    "print(espiao([1,2,4,0,0,7,5]))\n",
    "print(espiao([1,0,2,4,0,5,7]))\n",
    "print(espiao([1,7,2,4,0,5,0]))"
   ]
  }
 ],
 "metadata": {
  "kernelspec": {
   "display_name": "Python 3",
   "language": "python",
   "name": "python3"
  },
  "language_info": {
   "codemirror_mode": {
    "name": "ipython",
    "version": 3
   },
   "file_extension": ".py",
   "mimetype": "text/x-python",
   "name": "python",
   "nbconvert_exporter": "python",
   "pygments_lexer": "ipython3",
   "version": "3.7.1"
  }
 },
 "nbformat": 4,
 "nbformat_minor": 2
}
