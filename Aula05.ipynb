{
 "cells": [
  {
   "cell_type": "markdown",
   "metadata": {},
   "source": [
    "### Carlos Sérgio Santana Santos\n",
    "### RA: 81712539"
   ]
  },
  {
   "cell_type": "markdown",
   "metadata": {},
   "source": [
    "1 Linha: Crie a classe Linha que tem dois atributos, coordenada1 e coordenada2.\n",
    "Cada coordenada é uma tupla que carrega duas coordenadas cartesianas (x,y) que\n",
    "denotam pontos do segmento de reta. Faça métodos que calculem o comprimento\n",
    "do segmento de reta e sua inclinação."
   ]
  },
  {
   "cell_type": "code",
   "execution_count": 15,
   "metadata": {},
   "outputs": [
    {
     "name": "stdout",
     "output_type": "stream",
     "text": [
      "Comprimento :  7.211102550927978\n",
      "Inclinação:  1.5\n"
     ]
    }
   ],
   "source": [
    "import math\n",
    "class Linha:\n",
    "        def __init__(self, c1, c2):\n",
    "            self.coordenada1 = c1\n",
    "            self.coordenada2 = c2\n",
    "        def calcularComprimento(self):\n",
    "            return math.sqrt((self.coordenada2[0] - self.coordenada1[0])**2 + (self.coordenada2[1] - self.coordenada1[1])**2)\n",
    "        def calcularInclinacao(self):\n",
    "            return (self.coordenada2[1] - self.coordenada1[1]) / (self.coordenada2[0] - self.coordenada1[0])\n",
    "    \n",
    "\n",
    "    \n",
    "linha = Linha((3, 2), (7, 8))\n",
    "print(\"Comprimento : \", linha.calcularComprimento())\n",
    "print(\"Inclinação: \",linha.calcularInclinacao())"
   ]
  },
  {
   "cell_type": "markdown",
   "metadata": {},
   "source": [
    "2 Figuras: Crie a seguinte hierarquia de classes de figuras geométricas. Veja na figura\n",
    "as fórmulas:\n",
    "\n",
    "a. A classe abstrata Figura deve ter o método abstrato area.\n",
    "b. A classe concreta Circulo é subclasse de Figura.\n",
    "\n",
    "c. A classe abstrata Poligono é subclasse de Figura e deve ter os atributos base e\n",
    "altura .\n",
    "\n",
    "d. As classes concretas Triangulo, Losango, Retangulo e Quadrado são subclasses de Poligono. Tente criar mais uma generalização aqui olhando as fórmulas da área.\n",
    "\n",
    "e. Os polígonos Retangulo e Quadrado devem implementar a interface Diagonal, que deve ter um método que calcula a diagonal.\n",
    "\n",
    "f. Crie uma classe Geometria com uma lista de Figuras com pelo menos uma\n",
    "figura de cada e imprima suas áreas, perímetros e diagonais."
   ]
  },
  {
   "cell_type": "code",
   "execution_count": 34,
   "metadata": {},
   "outputs": [
    {
     "name": "stdout",
     "output_type": "stream",
     "text": [
      "Figura: Circulo \n",
      "Area: 314.1592653589793\n",
      "\n",
      "Figura: Triangulo \n",
      "Area: 25.0\n",
      "\n",
      "Figura: Losango \n",
      "Area: 36.0\n",
      "\n",
      "Figura: Retangulo \n",
      "Area: 128\n",
      "\n",
      "Figura: Quadrado \n",
      "Area: 16\n",
      "\n"
     ]
    }
   ],
   "source": [
    "import math\n",
    "\n",
    "class Figura:\n",
    "    def area(a):\n",
    "        raise NotImplementedError()\n",
    "        \n",
    "###############################################################################################################\n",
    "\n",
    "class Circulo(Figura):\n",
    "    def __init__(a, raio):\n",
    "        a.raio = raio\n",
    "    def area(a):\n",
    "        return math.pi * (a.raio**2)\n",
    "    \n",
    "################################################################################################################  \n",
    "\n",
    "class Poligono(Figura):\n",
    "    def __init__(a, base, altura):\n",
    "        a.base = base\n",
    "        a.altura = altura        \n",
    "        \n",
    "################################################################################################################     \n",
    "        \n",
    "class Triangulo(Poligono):\n",
    "    def area(a):\n",
    "        return (a.base * a.altura) / 2\n",
    "    \n",
    "################################################################################################################ \n",
    "\n",
    "class Losango(Poligono):\n",
    "    def area(a):\n",
    "        return (a.base * a.altura) / 2\n",
    "    \n",
    "################################################################################################################  \n",
    "\n",
    "class Diagonal:\n",
    "    def diagonal(a, base, altura):\n",
    "        return (base**2 + altura**2)**(1/2)\n",
    "    \n",
    "################################################################################################################     \n",
    "\n",
    "class Retangulo(Poligono):\n",
    "    diagonal = Diagonal()\n",
    "    def diagonal(a):\n",
    "        return a.diagonal.diagonal(a.base, a.altura)\n",
    "    \n",
    "    def area(a):\n",
    "        return a.base * a.altura\n",
    "    \n",
    "################################################################################################################ \n",
    "\n",
    "class Quadrado(Retangulo):\n",
    "    def __init__(a, lado):\n",
    "        Retangulo.__init__(a, lado, lado)\n",
    "     \n",
    "################################################################################################################ \n",
    "\n",
    "class Geometria:\n",
    "    def __init__(a, figuras):\n",
    "        a.lista = [x for x in figuras]\n",
    "        \n",
    "################################################################################################################ \n",
    "\n",
    "vida = Geometria([ Circulo(10),Triangulo(5, 10),Losango(6, 12),Retangulo(16, 8),Quadrado(4)])\n",
    "\n",
    "################################################################################################################ \n",
    "\n",
    "for x in vida.lista:\n",
    "    print(f'Figura: {type(x).__name__} \\nArea: {x.area()}\\n')"
   ]
  },
  {
   "cell_type": "markdown",
   "metadata": {},
   "source": [
    "Jogo de Blacjack: Faça um joguinho simples em Python.\n",
    "Aqui estão os requisitos:\n",
    "- Você precisa criar um jogo de BlackJack (21) baseado em texto simples\n",
    "- O jogo precisa ter um jogador contra um croupier automatizado.\n",
    "- O jogador pode desistir ou bater.\n",
    "- O jogador deve ser capaz de escolher o seu valor de aposta.\n",
    "- Você precisa acompanhar o dinheiro total do jogador.\n",
    "- Você precisa alertar o jogador de vitórias, derrotas ou estouros, etc ..."
   ]
  }
 ],
 "metadata": {
  "kernelspec": {
   "display_name": "Python 3",
   "language": "python",
   "name": "python3"
  },
  "language_info": {
   "codemirror_mode": {
    "name": "ipython",
    "version": 3
   },
   "file_extension": ".py",
   "mimetype": "text/x-python",
   "name": "python",
   "nbconvert_exporter": "python",
   "pygments_lexer": "ipython3",
   "version": "3.7.1"
  }
 },
 "nbformat": 4,
 "nbformat_minor": 2
}
