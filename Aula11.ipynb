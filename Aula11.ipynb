{
 "cells": [
  {
   "cell_type": "markdown",
   "metadata": {},
   "source": [
    "#### Carlos Sérgio Santana Santos \n",
    "#### Ra: 81712539"
   ]
  },
  {
   "cell_type": "markdown",
   "metadata": {},
   "source": [
    "#### 1) Use map() para criar uma função que encontra o comprimento de cada palavra em uma frase (quebrada por espaços) e retorna os valores em um lista. A função deve ter como entrada uma string e como saída uma lista de inteiros."
   ]
  },
  {
   "cell_type": "code",
   "execution_count": 10,
   "metadata": {},
   "outputs": [],
   "source": [
    "word = lambda frase: list(map(len, frase.split()))\n",
    "\n",
    "assert(word('CARLOS MAGNO') == [6, 5])"
   ]
  },
  {
   "cell_type": "markdown",
   "metadata": {},
   "source": [
    "#### 2) Use reduce() para pegar uma lista de inteiros e retornar o número que corresponde à combinação destes dígitos. Por exemplo, [1,2,3] corresponde a cento e vinte e três."
   ]
  },
  {
   "cell_type": "code",
   "execution_count": 21,
   "metadata": {},
   "outputs": [],
   "source": [
    "from functools import reduce\n",
    "\n",
    "digits = lambda digitos: int(reduce(lambda c, b: str(c) + str(b), digitos))\n",
    "\n",
    "assert(digits([3,4,3,2,1]) == 34321)"
   ]
  },
  {
   "cell_type": "markdown",
   "metadata": {},
   "source": [
    "#### 3) Use filter() para retornar as palavras de uma lista de palavras que comecem com uma determinada letra."
   ]
  },
  {
   "cell_type": "code",
   "execution_count": 25,
   "metadata": {},
   "outputs": [
    {
     "ename": "AssertionError",
     "evalue": "",
     "output_type": "error",
     "traceback": [
      "\u001b[1;31m---------------------------------------------------------------------------\u001b[0m",
      "\u001b[1;31mAssertionError\u001b[0m                            Traceback (most recent call last)",
      "\u001b[1;32m<ipython-input-25-9a62680f5e0b>\u001b[0m in \u001b[0;36m<module>\u001b[1;34m\u001b[0m\n\u001b[0;32m      3\u001b[0m \u001b[0mfilter_words\u001b[0m \u001b[1;33m=\u001b[0m \u001b[1;32mlambda\u001b[0m \u001b[0mpalavras\u001b[0m\u001b[1;33m,\u001b[0m \u001b[0mletra\u001b[0m\u001b[1;33m:\u001b[0m \u001b[0mlist\u001b[0m\u001b[1;33m(\u001b[0m\u001b[0mfilter\u001b[0m\u001b[1;33m(\u001b[0m\u001b[1;32mlambda\u001b[0m \u001b[0mpalavra\u001b[0m\u001b[1;33m:\u001b[0m \u001b[0mpalavra\u001b[0m\u001b[1;33m.\u001b[0m\u001b[0mstartswith\u001b[0m\u001b[1;33m(\u001b[0m\u001b[0mletra\u001b[0m\u001b[1;33m)\u001b[0m\u001b[1;33m,\u001b[0m \u001b[0mpalavras\u001b[0m\u001b[1;33m)\u001b[0m\u001b[1;33m)\u001b[0m\u001b[1;33m\u001b[0m\u001b[1;33m\u001b[0m\u001b[0m\n\u001b[0;32m      4\u001b[0m \u001b[1;33m\u001b[0m\u001b[0m\n\u001b[1;32m----> 5\u001b[1;33m \u001b[1;32massert\u001b[0m\u001b[1;33m(\u001b[0m\u001b[0mfilter_words\u001b[0m\u001b[1;33m(\u001b[0m\u001b[0ml\u001b[0m\u001b[1;33m,\u001b[0m\u001b[1;34m'o'\u001b[0m\u001b[1;33m)\u001b[0m \u001b[1;33m==\u001b[0m \u001b[1;33m[\u001b[0m\u001b[1;34m'Europa'\u001b[0m\u001b[1;33m,\u001b[0m \u001b[1;34m'Carlos'\u001b[0m\u001b[1;33m,\u001b[0m \u001b[1;34m'Magno'\u001b[0m\u001b[1;33m,\u001b[0m \u001b[1;34m'Vaticano'\u001b[0m\u001b[1;33m,\u001b[0m \u001b[1;34m'Bispo'\u001b[0m\u001b[1;33m]\u001b[0m \u001b[1;33m)\u001b[0m\u001b[1;33m\u001b[0m\u001b[1;33m\u001b[0m\u001b[0m\n\u001b[0m",
      "\u001b[1;31mAssertionError\u001b[0m: "
     ]
    }
   ],
   "source": [
    "l = ['Carlos','Magno','Europa','Igreja','Católica','Papa','Bispo','Vaticano','Baviera']\n",
    "\n",
    "filter_words = lambda palavras, letra: list(filter(lambda palavra: palavra.startswith(letra), palavras))\n",
    "\n",
    "assert(filter_words(l,'o') == ['Europa', 'Carlos', 'Magno', 'Vaticano', 'Bispo'] )"
   ]
  },
  {
   "cell_type": "markdown",
   "metadata": {},
   "source": [
    "#### 4)"
   ]
  }
 ],
 "metadata": {
  "kernelspec": {
   "display_name": "Python 3",
   "language": "python",
   "name": "python3"
  },
  "language_info": {
   "codemirror_mode": {
    "name": "ipython",
    "version": 3
   },
   "file_extension": ".py",
   "mimetype": "text/x-python",
   "name": "python",
   "nbconvert_exporter": "python",
   "pygments_lexer": "ipython3",
   "version": "3.7.1"
  }
 },
 "nbformat": 4,
 "nbformat_minor": 2
}
